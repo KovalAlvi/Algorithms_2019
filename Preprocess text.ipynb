{
 "cells": [
  {
   "cell_type": "markdown",
   "metadata": {},
   "source": [
    "### Работаем с текстом\n",
    "1. Избавляемся от заглавных\n",
    "- Убираем пунктуацию\n",
    "- Избавляемся от нерусских слов"
   ]
  },
  {
   "cell_type": "markdown",
   "metadata": {},
   "source": [
    "##### Заглавные в прописный\n"
   ]
  },
  {
   "cell_type": "code",
   "execution_count": 81,
   "metadata": {},
   "outputs": [],
   "source": [
    "kant_file = open(\"Kritika.txt\", \"r\")\n",
    "data = kant_file.read() # len = 25507\n",
    "kant_file.close()\n"
   ]
  },
  {
   "cell_type": "code",
   "execution_count": 82,
   "metadata": {},
   "outputs": [],
   "source": [
    "def clean_txt(input_str):\n",
    "    input_to_lower = input_str.lower() \n",
    "    input_no_digit = re.sub(r'\\d+', '', input_to_lower) # without digits\n",
    "    clean_input = input_no_digit.translate(str.maketrans(\"\",\"\", string.punctuation)) # clean punctuations\n",
    "    return clean_input.split()\n",
    "    "
   ]
  },
  {
   "cell_type": "code",
   "execution_count": 85,
   "metadata": {},
   "outputs": [
    {
     "name": "stdout",
     "output_type": "stream",
     "text": [
      "\n",
      "Количество слов 59822, Количество символов 429317\n"
     ]
    }
   ],
   "source": [
    "clean_data = clean_txt(data)\n",
    "print(\"Количество слов {}, Количество символов {}\".format(len(clean_data),len(data)))"
   ]
  },
  {
   "cell_type": "code",
   "execution_count": null,
   "metadata": {},
   "outputs": [],
   "source": []
  }
 ],
 "metadata": {
  "kernelspec": {
   "display_name": "Python 3",
   "language": "python",
   "name": "python3"
  },
  "language_info": {
   "codemirror_mode": {
    "name": "ipython",
    "version": 3
   },
   "file_extension": ".py",
   "mimetype": "text/x-python",
   "name": "python",
   "nbconvert_exporter": "python",
   "pygments_lexer": "ipython3",
   "version": "3.6.8"
  }
 },
 "nbformat": 4,
 "nbformat_minor": 2
}
