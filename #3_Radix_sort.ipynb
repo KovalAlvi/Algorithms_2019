{
 "cells": [
  {
   "cell_type": "code",
   "execution_count": 1,
   "metadata": {},
   "outputs": [],
   "source": [
    "import numpy as np\n",
    "import matplotlib.pyplot as plt\n",
    "import time\n",
    "from tqdm import tqdm\n",
    "import seaborn as sns; sns.set()"
   ]
  },
  {
   "cell_type": "markdown",
   "metadata": {},
   "source": [
    "Written by: Kovalev Alexander  \n",
    "Department:  MSU, Physics Faculty, Mathematical Modelling and Computer Sciencegr(MMCS), gr. 435    \n",
    "  \n",
    "  \n",
    "Task: Compare perfomance hash functions"
   ]
  },
  {
   "cell_type": "code",
   "execution_count": 2,
   "metadata": {},
   "outputs": [],
   "source": [
    "def get_digit(n, d):\n",
    "    for i in range(d-1):\n",
    "        n //= 10\n",
    "    return n % 10\n",
    "\n",
    "def accumulate_sum(array):\n",
    "    for i in range(1, len(array)):\n",
    "        array[i] = array[i] + array[i-1]\n",
    "    return array\n",
    "\n",
    "def get_num_difit(n):\n",
    "    i = 0\n",
    "    while n > 0:\n",
    "        n //= 10\n",
    "        i += 1\n",
    "    return i\n",
    "def radixsort(l, base=10):\n",
    "    passes = get_num_difit(max(l))\n",
    "    output = [0] * len(l)\n",
    "    \n",
    "    for pos in range(0, passes+1):\n",
    "        count = [0] * base\n",
    "        for i in l:\n",
    "            digit = get_digit(i, pos)\n",
    "            count[digit] +=1\n",
    "        count = accumulate_sum(count)\n",
    "    \n",
    "        for i in reversed(l):\n",
    "            digit = get_digit(i, pos)\n",
    "            count[digit] -= 1\n",
    "            new_pose = count[digit]\n",
    "            output[new_pose] = i\n",
    "        l = list(output)\n",
    "    return output"
   ]
  },
  {
   "cell_type": "markdown",
   "metadata": {},
   "source": [
    "### Run radix sort for array with elements in different number systems"
   ]
  },
  {
   "cell_type": "code",
   "execution_count": 6,
   "metadata": {},
   "outputs": [],
   "source": [
    "def convert_base(num, to_base=10, from_base=10):\n",
    "    # first convert to decimal number\n",
    "    if isinstance(num, str):\n",
    "        n = int(num, from_base)\n",
    "    else:\n",
    "        n = int(num)\n",
    "    # now convert decimal to 'to_base' base\n",
    "    alphabet = \"0123456789ABCDEFGHIJKLMNOPQRSTUVWXYZ\"\n",
    "    if n < to_base:\n",
    "        return alphabet[n]\n",
    "    else:\n",
    "        return convert_base(n // to_base, to_base) + alphabet[n % to_base]"
   ]
  },
  {
   "cell_type": "code",
   "execution_count": 32,
   "metadata": {},
   "outputs": [
    {
     "data": {
      "text/plain": [
       "(30000, 8)"
      ]
     },
     "execution_count": 32,
     "metadata": {},
     "output_type": "execute_result"
    }
   ],
   "source": [
    "#interval    0<x<max_value  N = N\n",
    "N = 30000\n",
    "max_value =  10000\n",
    "base_list = [10, 9, 8, 7, 6, 5, 4, 3]\n",
    "\n",
    "mas = np.random.randint(max_value, size=N)\n",
    "\n",
    "mas_system = np.zeros((N, len(base_list)))\n",
    "for i, base in enumerate(base_list):\n",
    "    new_base = []\n",
    "    for num in mas:\n",
    "        new_base.append(convert_base(num, base, 10))\n",
    "    mas_system[:,i] = new_base\n",
    "    \n",
    "mas_system = np.array(mas_system, dtype = 'int')\n",
    "mas_system.shape"
   ]
  },
  {
   "cell_type": "code",
   "execution_count": 33,
   "metadata": {},
   "outputs": [
    {
     "name": "stdout",
     "output_type": "stream",
     "text": [
      "Base number  10 completed\n",
      "Base number  9 completed\n",
      "Base number  8 completed\n",
      "Base number  7 completed\n",
      "Base number  6 completed\n",
      "Base number  5 completed\n",
      "Base number  4 completed\n",
      "Base number  3 completed\n"
     ]
    }
   ],
   "source": [
    "mas_time = []\n",
    "\n",
    "for i in range(mas_system.shape[1]):\n",
    "    start_time = time.time()\n",
    "    radixsort(mas_system[:,i], base_list[i])\n",
    "    end_time = time.time()\n",
    "    mas_time.append(end_time - start_time )\n",
    "    \n",
    "    print(\"Base number \", base_list[i], 'completed')"
   ]
  },
  {
   "cell_type": "code",
   "execution_count": 34,
   "metadata": {},
   "outputs": [
    {
     "data": {
      "text/plain": [
       "Text(0.5, 1.0, 'Сравнение Radix sort для разных систем счисления')"
      ]
     },
     "execution_count": 34,
     "metadata": {},
     "output_type": "execute_result"
    },
    {
     "data": {
      "image/png": "[encoded data removed]",
      "text/plain": [
       "<Figure size 720x432 with 1 Axes>"
      ]
     },
     "metadata": {},
     "output_type": "display_data"
    }
   ],
   "source": [
    "plt.figure(figsize = (10,6))\n",
    "plt.plot(base_list, mas_time, '*', label='RK', ms=10)\n",
    "plt.xlabel('Система счисления'); plt.ylabel('Время, c')\n",
    "plt.legend()\n",
    "plt.title('Сравнение Radix sort для разных систем счисления')"
   ]
  },
  {
   "cell_type": "markdown",
   "metadata": {},
   "source": [
    "### Применяем radix sort для массива с разной степенью отсортированности."
   ]
  },
  {
   "cell_type": "code",
   "execution_count": 37,
   "metadata": {},
   "outputs": [],
   "source": [
    "def bubble(mas):\n",
    "    for j in range(0, len(mas)-1): \n",
    "        if mas[j] > mas[j+1] :\n",
    "            mas[j], mas[j+1] = mas[j+1], mas[j]     \n",
    "def invert_bubble(mas):\n",
    "    for j in range(0, len(mas)-1): \n",
    "        if mas[j] < mas[j+1] :\n",
    "            mas[j], mas[j+1] = mas[j+1], mas[j]\n",
    "            \n",
    "def create_table(N):\n",
    "    \"\"\"Create inverse sorted array\n",
    "    and take bubble to normal sorted massive\n",
    "    Output: (N, N)\n",
    "    \"\"\"\n",
    "    Mas = np.zeros((N,2*N))\n",
    "    Mas[:,N] = np.random.randint(N, size= N)\n",
    "    for i in range(1,N):\n",
    "        Mas[:,N+i] = Mas[:,N+i-1]\n",
    "        bubble(Mas[:,N+i])\n",
    "        \n",
    "    for i in range(1,N+1):\n",
    "        Mas[:,N-i] = Mas[:,N-i+1]\n",
    "        invert_bubble(Mas[:,N-i])\n",
    "    return np.array(Mas, dtype = 'int')\n"
   ]
  },
  {
   "cell_type": "code",
   "execution_count": 36,
   "metadata": {},
   "outputs": [
    {
     "name": "stdout",
     "output_type": "stream",
     "text": [
      "(10000, 20000)\n",
      "[9999 9999 9998 9997 9997 9997 9995 9994 9994 9993] [ 0  0  0  4  4  8 10 10 11 14]\n"
     ]
    }
   ],
   "source": [
    "Mas = create_table(10000)\n",
    "print(Mas.shape)\n",
    "print(Mas[:10,0], Mas[:10,-1])"
   ]
  },
  {
   "cell_type": "code",
   "execution_count": 38,
   "metadata": {},
   "outputs": [],
   "source": [
    "def meusure_time_2(fun, table):\n",
    "    \"\"\"Функция вычисляющая время работы алгоритма\n",
    "       для разного размера\n",
    "       Выводит массив со временем(в секундах)\"\"\"\n",
    "    mas = []\n",
    "    for i in range(table.shape[1]): # progress bar\n",
    "        start_time = time.time()\n",
    "        fun(list(table[:, i]))\n",
    "        end_time = time.time()\n",
    "        \n",
    "        mas.append(end_time - start_time)\n",
    "        if i%10 == 0:\n",
    "            print(i, \" array comleted\")\n",
    "    return mas"
   ]
  },
  {
   "cell_type": "code",
   "execution_count": 39,
   "metadata": {},
   "outputs": [
    {
     "name": "stdout",
     "output_type": "stream",
     "text": [
      "(10000, 100)\n",
      "0  array comleted\n",
      "10  array comleted\n",
      "20  array comleted\n",
      "30  array comleted\n",
      "40  array comleted\n",
      "50  array comleted\n",
      "60  array comleted\n",
      "70  array comleted\n",
      "80  array comleted\n",
      "90  array comleted\n"
     ]
    }
   ],
   "source": [
    "matrix = Mas[:,::200]\n",
    "print(matrix.shape)\n",
    "\n",
    "array = meusure_time_2(radixsort, matrix)\n"
   ]
  },
  {
   "cell_type": "code",
   "execution_count": 366,
   "metadata": {},
   "outputs": [
    {
     "data": {
      "text/plain": [
       "Text(0.5, 1.0, 'Radix sort для массивов с разной степенью отсортированности . ')"
      ]
     },
     "execution_count": 366,
     "metadata": {},
     "output_type": "execute_result"
    },
    {
     "data": {
      "image/png": "[encoded data removed]",
      "text/plain": [
       "<Figure size 720x432 with 1 Axes>"
      ]
     },
     "metadata": {},
     "output_type": "display_data"
    }
   ],
   "source": [
    "\n",
    "plt.figure(figsize = (10,6))\n",
    "plt.plot(array, '*', label='heap sort', ms=10)\n",
    "plt.xlabel('Степень отсортированности'); plt.ylabel('Время, c')\n",
    "plt.ylim(0.1,0.4)\n",
    "plt.legend()\n",
    "plt.title('Radix sort для массивов с разной степенью отсортированности . ')"
   ]
  },
  {
   "cell_type": "markdown",
   "metadata": {},
   "source": [
    "### Radix sort для разной длины массива\n"
   ]
  },
  {
   "cell_type": "code",
   "execution_count": 8,
   "metadata": {},
   "outputs": [],
   "source": [
    "def meusure_time(fun, A, lenghts = [1000]):\n",
    "    \"\"\"Функция вычисляющая время работы алгоритма\n",
    "       для разного размера\n",
    "       Выводит массив со временем(в секундах)\"\"\"\n",
    "    mas = []\n",
    "    #N = 3 # по какому брать среднее\n",
    "    \n",
    "    for i in lenghts: # progress bar\n",
    "            start_time = time.time()\n",
    "            fun(A[:i])\n",
    "            end_time = time.time()\n",
    "            mas.append(end_time - start_time)\n",
    "    return mas"
   ]
  },
  {
   "cell_type": "code",
   "execution_count": 3,
   "metadata": {},
   "outputs": [],
   "source": [
    "# n is size of heap \n",
    "def heapify(arr, N, idx):\n",
    "    largest = idx # Initialize largest as root \n",
    "    left = 2 * idx + 1     # left = 2*i + 1 \n",
    "    right = left + 1     # right = 2*i + 2 \n",
    "    \n",
    "    #compare wirh a child\n",
    "    if left < N and arr[idx] < arr[left]: \n",
    "        largest = left     \n",
    "    if right < N and arr[largest] < arr[right]: \n",
    "        largest = right\n",
    "    #swap\n",
    "    if largest != idx: \n",
    "        arr[idx], arr[largest] = arr[largest],arr[idx] # swap \n",
    "        heapify(arr, N, largest) \n",
    "        \n",
    "def heap_sort(arr): \n",
    "    N = len(arr) \n",
    "    # Build a maxheap.\n",
    "    for i in range(N, -1, -1): \n",
    "        heapify(arr, N, i) \n",
    "        \n",
    "    for i in range(N-1, 0, -1): \n",
    "        arr[i], arr[0] = arr[0], arr[i] # swap \n",
    "        heapify(arr, i, 0) \n",
    "  # Driver code to test above \n",
    "\n",
    "\n",
    "# This code is contributed by Mohit Kumra "
   ]
  },
  {
   "cell_type": "code",
   "execution_count": 14,
   "metadata": {},
   "outputs": [],
   "source": [
    "k = 1000\n",
    "A = np.random.randint(100*k, size = 100*k)\n",
    "B = np.random.randint(k, size = 100*k)\n",
    "lenghts1 = [i for i in range(k,100*k,5*k)] # 1 000 000\n",
    "mas_1 = meusure_time(radixsort, A ,lenghts1)\n",
    "mas_2 = meusure_time(heap_sort, B ,lenghts1)"
   ]
  },
  {
   "cell_type": "code",
   "execution_count": 15,
   "metadata": {},
   "outputs": [
    {
     "data": {
      "text/plain": [
       "Text(0.5, 1.0, 'Radix_sort and heap_sort для разной длины массива')"
      ]
     },
     "execution_count": 15,
     "metadata": {},
     "output_type": "execute_result"
    },
    {
     "data": {
      "image/png": "[encoded data removed]",
      "text/plain": [
       "<Figure size 720x432 with 1 Axes>"
      ]
     },
     "metadata": {
      "needs_background": "light"
     },
     "output_type": "display_data"
    }
   ],
   "source": [
    "\"\"\"asym_1 = 2.3*np.array(lenghts1)/100000\n",
    "\"\"\"\n",
    "plt.figure(figsize = (10,6))\n",
    "plt.plot(lenghts1, mas_1, '*', label='radix_sort', ms=10)\n",
    "plt.plot(lenghts1, mas_2, '*', label='heap_sort', ms=10)\n",
    "\n",
    "#plt.plot(lenghts1, asym_1, '--',label ='n')\n",
    "#plt.plot(lenghts, mas2, 'o', label ='heap_sort', ms=8)\n",
    "plt.xlabel('Длина массива'); plt.ylabel('Время, c')\n",
    "plt.legend()\n",
    "plt.title('Radix_sort and heap_sort для разной длины массива')"
   ]
  },
  {
   "cell_type": "code",
   "execution_count": null,
   "metadata": {},
   "outputs": [],
   "source": []
  }
 ],
 "metadata": {
  "kernelspec": {
   "display_name": "Python 3",
   "language": "python",
   "name": "python3"
  },
  "language_info": {
   "codemirror_mode": {
    "name": "ipython",
    "version": 3
   },
   "file_extension": ".py",
   "mimetype": "text/x-python",
   "name": "python",
   "nbconvert_exporter": "python",
   "pygments_lexer": "ipython3",
   "version": "3.6.8"
  }
 },
 "nbformat": 4,
 "nbformat_minor": 2
}
