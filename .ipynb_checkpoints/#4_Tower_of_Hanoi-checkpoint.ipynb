{
 "cells": [
  {
   "cell_type": "markdown",
   "metadata": {},
   "source": [
    "\n",
    "### Programm #4. Tower of Hanoi\n",
    "\n"
   ]
  },
  {
   "cell_type": "markdown",
   "metadata": {},
   "source": [
    "Written by: Kovalev Alexander  \n",
    "Department:  MSU, Physics Faculty, Mathematical Modelling and Computer Sciencegr(MMCS), gr. 435    \n",
    "  \n",
    "  \n",
    "Task: Implement algorithm of tower of hanoi"
   ]
  },
  {
   "cell_type": "markdown",
   "metadata": {},
   "source": [
    "Implement algorith:\n",
    "- recursive  \n",
    "#_iterative_ \n",
    "  \n",
    "Plot follow graph:\n",
    "- x axis: number of disk\n",
    "- y axis: move operation\n",
    " \n",
    "Assume ~ O(2^n)"
   ]
  },
  {
   "cell_type": "code",
   "execution_count": 1,
   "metadata": {},
   "outputs": [],
   "source": [
    "import matplotlib.pyplot as plt\n",
    "import seaborn as sns; sns.set()"
   ]
  },
  {
   "cell_type": "markdown",
   "metadata": {},
   "source": [
    "### Tower of Hanoi "
   ]
  },
  {
   "cell_type": "code",
   "execution_count": 2,
   "metadata": {},
   "outputs": [],
   "source": [
    "def move_disk(n, from_rod, to_rod, help_rod):\n",
    "    if n > 0:\n",
    "        move_disk(n-1, from_rod, help_rod, to_rod)\n",
    "        print(\"Move {} disk from {}, to {}\".format(n, from_rod, to_rod))\n",
    "        move_disk(n-1, help_rod, to_rod, from_rod)\n",
    "        "
   ]
  },
  {
   "cell_type": "code",
   "execution_count": 3,
   "metadata": {},
   "outputs": [
    {
     "name": "stdout",
     "output_type": "stream",
     "text": [
      "Move 1 disk from A, to B\n",
      "Move 2 disk from A, to C\n",
      "Move 1 disk from B, to C\n"
     ]
    }
   ],
   "source": [
    "n = 2\n",
    "move_disk(n, from_rod = 'A', to_rod = \"C\", help_rod = \"B\")"
   ]
  },
  {
   "cell_type": "markdown",
   "metadata": {},
   "source": [
    "#### Count number of operation"
   ]
  },
  {
   "cell_type": "code",
   "execution_count": 4,
   "metadata": {},
   "outputs": [],
   "source": [
    "def move_disk_operate(n, from_rod, to_rod, help_rod, num_operate):\n",
    "    if n > 0:\n",
    "        num_operate = move_disk_operate(n-1, from_rod, help_rod, to_rod, num_operate)\n",
    "        num_operate += 1\n",
    "        num_operate = move_disk_operate(n-1, help_rod, to_rod, from_rod, num_operate)   \n",
    "    return num_operate"
   ]
  },
  {
   "cell_type": "code",
   "execution_count": 5,
   "metadata": {},
   "outputs": [
    {
     "data": {
      "text/plain": [
       "7"
      ]
     },
     "execution_count": 5,
     "metadata": {},
     "output_type": "execute_result"
    }
   ],
   "source": [
    "n = 3\n",
    "move_disk_operate(n, from_rod = 'A', to_rod = \"C\", help_rod = \"B\", num_operate = 0)"
   ]
  },
  {
   "cell_type": "code",
   "execution_count": 6,
   "metadata": {},
   "outputs": [],
   "source": [
    "mas_operates = []\n",
    "heights = [i  for i in range(2, 12)]\n",
    "for n in heights:\n",
    "    mas_operates.append(move_disk_operate(n, from_rod = 'A', to_rod = \"C\", help_rod = \"B\", num_operate = 0))\n",
    "        "
   ]
  },
  {
   "cell_type": "code",
   "execution_count": 7,
   "metadata": {},
   "outputs": [
    {
     "data": {
      "text/plain": [
       "Text(0, 0.5, 'Number of operations')"
      ]
     },
     "execution_count": 7,
     "metadata": {},
     "output_type": "execute_result"
    },
    {
     "data": {
      "image/png": "[encoded data removed]",
      "text/plain": [
       "<Figure size 432x288 with 1 Axes>"
      ]
     },
     "metadata": {
      "needs_background": "light"
     },
     "output_type": "display_data"
    }
   ],
   "source": [
    "\n",
    "plt.plot(heights, mas_operates)\n",
    "plt.xlabel('Number of disk')\n",
    "plt.ylabel('Number of operations')\n"
   ]
  },
  {
   "cell_type": "markdown",
   "metadata": {},
   "source": [
    "### Iterative solution... "
   ]
  },
  {
   "cell_type": "code",
   "execution_count": 8,
   "metadata": {},
   "outputs": [
    {
     "name": "stdout",
     "output_type": "stream",
     "text": [
      "Move 1 disk from A, to B\n",
      "Move 2 disk from A, to C\n",
      "Move 1 disk from B, to C\n",
      "Move 3 disk from A, to B\n",
      "Move 1 disk from C, to A\n",
      "Move 2 disk from C, to B\n",
      "Move 1 disk from A, to B\n",
      "Move 4 disk from A, to C\n",
      "Move 1 disk from B, to C\n",
      "Move 2 disk from B, to A\n",
      "Move 1 disk from C, to A\n",
      "Move 3 disk from B, to C\n",
      "Move 1 disk from A, to B\n",
      "Move 2 disk from A, to C\n",
      "Move 1 disk from B, to C\n"
     ]
    }
   ],
   "source": [
    "n = 4\n",
    "move_disk(n, from_rod = 'A', to_rod = \"C\", help_rod = \"B\")"
   ]
  },
  {
   "cell_type": "code",
   "execution_count": 9,
   "metadata": {},
   "outputs": [],
   "source": [
    "# A = [i for i in range(10)]\n",
    "# B = []\n",
    "# C = []\n",
    "\n",
    "# def move(n, source, target, auxiliary):\n",
    "#     if n > 0:\n",
    "#         move(n - 1, source, auxiliary, target)\n",
    "#         target.append(source.pop())\n",
    "#         print(A, B, C, '---------------------------------', sep = '\\n')\n",
    "#         move(n - 1, auxiliary, target, source)\n",
    "\n",
    "# # initiate call from source A to target C with auxiliary B\n",
    "# move(len(A), A, C, B)"
   ]
  }
 ],
 "metadata": {
  "kernelspec": {
   "display_name": "Python 3",
   "language": "python",
   "name": "python3"
  },
  "language_info": {
   "codemirror_mode": {
    "name": "ipython",
    "version": 3
   },
   "file_extension": ".py",
   "mimetype": "text/x-python",
   "name": "python",
   "nbconvert_exporter": "python",
   "pygments_lexer": "ipython3",
   "version": "3.6.8"
  }
 },
 "nbformat": 4,
 "nbformat_minor": 2
}
