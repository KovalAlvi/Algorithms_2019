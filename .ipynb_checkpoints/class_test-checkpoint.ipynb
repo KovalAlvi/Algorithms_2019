{
 "cells": [
  {
   "cell_type": "code",
   "execution_count": 31,
   "metadata": {},
   "outputs": [],
   "source": [
    "class Node():\n",
    "    def __init__(self, key):\n",
    "        self.key = key\n",
    "        self.value = 1\n",
    "        self.left = None; self.right = None\n",
    "    def __str__(self):\n",
    "        return str(self.key) + \" \" + str(self.value)\n",
    "    def add(self, other):\n",
    "        if other.key > self.key:\n",
    "            if self.right is None:\n",
    "                self.right = other\n",
    "            else:\n",
    "                self.right.add(other)\n",
    "\n",
    "        elif other.key < self.key:\n",
    "            if self.left is None:\n",
    "                self.left = other\n",
    "            else:\n",
    "                self.left.add(other)\n",
    "        else:\n",
    "            self.value += 1\n",
    "            \n",
    "    \n",
    "            "
   ]
  },
  {
   "cell_type": "code",
   "execution_count": 41,
   "metadata": {},
   "outputs": [],
   "source": [
    "class Tree():\n",
    "    def __init__(self, root = None):\n",
    "        self.root = root\n",
    "    def getRoot(self):\n",
    "        print(self.root)\n",
    "    def incert(self, other):\n",
    "        if self.root is None:\n",
    "            self.root = other\n",
    "        else:\n",
    "            self.root.add(other)\n",
    "    def \n",
    "            \n",
    "        "
   ]
  },
  {
   "cell_type": "code",
   "execution_count": 40,
   "metadata": {},
   "outputs": [
    {
     "name": "stdout",
     "output_type": "stream",
     "text": [
      "10 1\n"
     ]
    }
   ],
   "source": []
  },
  {
   "cell_type": "code",
   "execution_count": 32,
   "metadata": {},
   "outputs": [],
   "source": [
    "node1 = Node(10)"
   ]
  },
  {
   "cell_type": "code",
   "execution_count": 33,
   "metadata": {},
   "outputs": [
    {
     "name": "stdout",
     "output_type": "stream",
     "text": [
      "10 1\n"
     ]
    }
   ],
   "source": [
    "node2 = Node(12)\n",
    "print(node1)"
   ]
  },
  {
   "cell_type": "code",
   "execution_count": 34,
   "metadata": {},
   "outputs": [],
   "source": [
    "node1.add(node2)\n",
    "node1.add(node2)"
   ]
  },
  {
   "cell_type": "code",
   "execution_count": 37,
   "metadata": {},
   "outputs": [
    {
     "name": "stdout",
     "output_type": "stream",
     "text": [
      "12 2\n"
     ]
    }
   ],
   "source": [
    "\n"
   ]
  },
  {
   "cell_type": "code",
   "execution_count": null,
   "metadata": {},
   "outputs": [],
   "source": []
  }
 ],
 "metadata": {
  "kernelspec": {
   "display_name": "Python 3",
   "language": "python",
   "name": "python3"
  },
  "language_info": {
   "codemirror_mode": {
    "name": "ipython",
    "version": 3
   },
   "file_extension": ".py",
   "mimetype": "text/x-python",
   "name": "python",
   "nbconvert_exporter": "python",
   "pygments_lexer": "ipython3",
   "version": "3.6.8"
  }
 },
 "nbformat": 4,
 "nbformat_minor": 2
}
