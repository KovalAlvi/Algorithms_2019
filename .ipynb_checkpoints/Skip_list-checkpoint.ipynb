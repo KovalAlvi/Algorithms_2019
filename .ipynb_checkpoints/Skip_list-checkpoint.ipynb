{
 "cells": [
  {
   "cell_type": "code",
   "execution_count": 132,
   "metadata": {},
   "outputs": [
    {
     "name": "stdout",
     "output_type": "stream",
     "text": [
      "\n",
      "*****Skip List******\n",
      "Level 0:  3 7 9 12 19 21 25 26 \n",
      "Level 1:  3 9 12 21 25 \n",
      "Level 2:  12 21 \n",
      "Level 3:  12 21 \n",
      "[3, 3, 5]\n"
     ]
    }
   ],
   "source": [
    "# Python3 code for inserting element in skip list \n",
    "# Нужно будет разобраться в реализации этой структуры данныъ\n",
    "\n",
    "import random \n",
    "  \n",
    "class Node(object): \n",
    "    ''' \n",
    "    Class to implement node \n",
    "    '''\n",
    "    idNumber = 0\n",
    "    def __init__(self, key, level): \n",
    "        self.key = key \n",
    "        self.value = 1\n",
    "        # list to hold references to node of different level  \n",
    "        self.forward = [None]*(level+1) \n",
    "        Node.idNumber += 1\n",
    "    def set_idNumber(value):\n",
    "        Node.idNumber = value\n",
    "    def get_idNumber():\n",
    "        return Node.idNumber\n",
    "        \n",
    "        \n",
    "\n",
    "class SkipList(object): \n",
    "    ''' \n",
    "    Class for Skip list \n",
    "    '''\n",
    "    def __init__(self, max_lvl, P): \n",
    "        # Maximum level for this skip list \n",
    "        self.MAXLVL = max_lvl \n",
    "  # P is the fraction of the nodes with level  \n",
    "   # i references also having level i+1 references \n",
    "        self.P = P \n",
    "  # create header node and initialize key to -1 \n",
    "        self.header = self.createNode(self.MAXLVL, -1) \n",
    "        self.level = 0\n",
    "      \n",
    "    # create  new node \n",
    "    def createNode(self, lvl, key): \n",
    "        n = Node(key, lvl) \n",
    "        return n \n",
    "      \n",
    "    # create random level for node \n",
    "    def randomLevel(self): \n",
    "        lvl = 0\n",
    "        while random.random()<self.P and lvl<self.MAXLVL:\n",
    "            lvl += 1\n",
    "        return lvl \n",
    "  # insert given key in skip list \n",
    "    def insertElement(self, key): \n",
    "        num_compares = 0\n",
    "        # create update array and initialize it \n",
    "        update = [None]*(self.MAXLVL+1) \n",
    "        current = self.header \n",
    "        ''' \n",
    "        start from highest level of skip list \n",
    "        move the current reference forward while key  \n",
    "        is greater than key of node next to current \n",
    "        Otherwise inserted current in update and  \n",
    "        move one level down and continue search \n",
    "        '''\n",
    "        for i in range(self.level, -1, -1): \n",
    "            num_compares += 1\n",
    "            while current.forward[i] and current.forward[i].key < key: \n",
    "                num_compares += 1\n",
    "                current = current.forward[i] \n",
    "            update[i] = current \n",
    "        '''  \n",
    "        reached level 0 and forward reference to  \n",
    "        right, which is desired position to  \n",
    "        insert key. \n",
    "        ''' \n",
    "        current = current.forward[0] \n",
    "        ''' \n",
    "        if current is NULL that means we have reached \n",
    "           to end of the level or current's key is not equal \n",
    "           to key to insert that means we have to insert \n",
    "           node between update[0] and current node \n",
    "       '''\n",
    "        num_compares += 1\n",
    "        if current == None or current.key != key: \n",
    "            # Generate a random level for node \n",
    "            rlevel = self.randomLevel() \n",
    "\n",
    "            \"\"\"If random level is greater than list's current \n",
    "            level (node with highest level inserted in  \n",
    "            list so far), initialize update value with reference \n",
    "            to header for further use \n",
    "            \"\"\"\n",
    "            num_compares += 1\n",
    "            if rlevel > self.level: \n",
    "                for i in range(self.level+1, rlevel+1): \n",
    "                    update[i] = self.header \n",
    "                self.level = rlevel \n",
    "\n",
    "            # create new node with random level generated \n",
    "            n = self.createNode(rlevel, key) \n",
    "           # insert node by rearranging references  \n",
    "            for i in range(rlevel+1): \n",
    "                n.forward[i] = update[i].forward[i] \n",
    "                update[i].forward[i] = n \n",
    "                #print(\"Successfully inserted key {}\".format(key)) \n",
    "        return num_compares\n",
    "  # Display skip list level wise \n",
    "    def displayList(self): \n",
    "        print(\"\\n*****Skip List******\") \n",
    "        head = self.header \n",
    "        for lvl in range(self.level+1): \n",
    "            print(\"Level {}: \".format(lvl), end=\" \") \n",
    "            node = head.forward[lvl] \n",
    "            while(node != None): \n",
    "                print(node.key, end=\" \") \n",
    "                node = node.forward[lvl] \n",
    "            print(\"\") \n",
    "  # Driver to test above code \n",
    "def main(): \n",
    "    num_compares = []\n",
    "    lst = SkipList(3, 0.5) \n",
    "    num_compares.append(lst.insertElement(3))\n",
    "    \n",
    "    num_compares.append(lst.insertElement(3))\n",
    "    num_compares.append(lst.insertElement(7))\n",
    "    lst.insertElement(9) \n",
    "    lst.insertElement(12) \n",
    "    lst.insertElement(19) \n",
    "    lst.insertElement(19) \n",
    "    lst.insertElement(26) \n",
    "    lst.insertElement(21) \n",
    "    lst.insertElement(25) \n",
    "    lst.insertElement(9) \n",
    "    lst.insertElement(12) \n",
    "    lst.insertElement(19) \n",
    "    lst.insertElement(19) \n",
    "    lst.insertElement(26) \n",
    "    lst.insertElement(21) \n",
    "    lst.insertElement(25) \n",
    "    lst.displayList() \n",
    "    print(num_compares)\n",
    "main() "
   ]
  },
  {
   "cell_type": "code",
   "execution_count": 124,
   "metadata": {},
   "outputs": [
    {
     "name": "stdout",
     "output_type": "stream",
     "text": [
      "Successfully inserted key 3\n",
      "Successfully inserted key 3\n",
      "Successfully inserted key 10\n",
      "Successfully inserted key 10\n",
      "Successfully inserted key 10\n",
      "Successfully inserted key 10\n",
      "Successfully inserted key 2\n",
      "Successfully inserted key 2\n",
      "Successfully inserted key 12\n",
      "Successfully inserted key 20\n",
      "\n",
      "*****Skip List******\n",
      "Level 0:  2 3 10 12 20 \n",
      "Level 1:  2 3 10 \n",
      "Level 2:  10 \n",
      "Level 3:  10 \n"
     ]
    }
   ],
   "source": [
    "num_compares = []\n",
    "list_size = []\n",
    "Node.set_idNumber(0)\n",
    "lst = SkipList(3, 0.5) \n",
    "\n",
    "\n",
    "num_compares.append(lst.insertElement(3))\n",
    "list_size.append(Node.get_idNumber())\n",
    "\n",
    "num_compares.append(lst.insertElement(3))\n",
    "list_size.append(Node.get_idNumber())\n",
    " \n",
    "num_compares.append(lst.insertElement(10))\n",
    "list_size.append(Node.get_idNumber())\n",
    "\n",
    "num_compares.append(lst.insertElement(2))\n",
    "list_size.append(Node.get_idNumber())\n",
    "\n",
    "num_compares.append(lst.insertElement(12))\n",
    "list_size.append(Node.get_idNumber())\n",
    "\n",
    "num_compares.append(lst.insertElement(20))\n",
    "list_size.append(Node.get_idNumber())\n",
    "\n",
    "lst.displayList() \n",
    "    "
   ]
  },
  {
   "cell_type": "code",
   "execution_count": 126,
   "metadata": {},
   "outputs": [
    {
     "name": "stdout",
     "output_type": "stream",
     "text": [
      " Amount of compare: [3, 3, 5, 6, 7, 8] \n",
      " Amount of unique value: [2, 2, 3, 4, 5, 6]\n"
     ]
    }
   ],
   "source": [
    "print('Amount of compare:', num_compares, '\\n', 'Amount of unique value:', list_size)"
   ]
  },
  {
   "cell_type": "code",
   "execution_count": 183,
   "metadata": {},
   "outputs": [],
   "source": [
    "def estimate_list(clean_data):\n",
    "    \"\"\"Input: clean text\n",
    "       Output: num_compares, tree_sizes\n",
    "    \"\"\"\n",
    "    Node.set_idNumber(0) # zero outr counter of unique keys in tree\n",
    "    num_compares = []\n",
    "    list_size = []\n",
    "    lst = SkipList(1000, 0.4)\n",
    "\n",
    "    for word in clean_data:\n",
    "        num_compares.append(lst.insertElement(word))\n",
    "        list_size.append(Node.get_idNumber())\n",
    "        \n",
    "    return num_compares, list_size\n",
    "    "
   ]
  },
  {
   "cell_type": "code",
   "execution_count": 184,
   "metadata": {},
   "outputs": [],
   "source": [
    "compares_array, sizes_array = estimate_list(clean_data)"
   ]
  },
  {
   "cell_type": "code",
   "execution_count": 185,
   "metadata": {},
   "outputs": [],
   "source": [
    "import numpy as np"
   ]
  },
  {
   "cell_type": "code",
   "execution_count": 190,
   "metadata": {},
   "outputs": [
    {
     "data": {
      "text/plain": [
       "[<matplotlib.lines.Line2D at 0x1a81c243c50>]"
      ]
     },
     "execution_count": 190,
     "metadata": {},
     "output_type": "execute_result"
    },
    {
     "data": {
      "image/png": "[encoded data removed]",
      "text/plain": [
       "<Figure size 432x288 with 1 Axes>"
      ]
     },
     "metadata": {
      "needs_background": "light"
     },
     "output_type": "display_data"
    }
   ],
   "source": [
    "N = 40\n",
    "average_compare = np.convolve(compares_array, np.ones((N,))/N, mode='valid')\n",
    "average_sizes = np.convolve(sizes_array, np.ones((N,))/N, mode='valid')\n",
    "plt.plot(average_sizes, average_compare)"
   ]
  },
  {
   "cell_type": "code",
   "execution_count": 129,
   "metadata": {},
   "outputs": [
    {
     "name": "stdout",
     "output_type": "stream",
     "text": [
      "Количество слов 59822, Количество символов 429317\n"
     ]
    }
   ],
   "source": [
    "import re\n",
    "import string\n",
    "kant_file = open(\"Kritika.txt\", \"r\")\n",
    "data = kant_file.read() # len = 25507\n",
    "kant_file.close()\n",
    "\n",
    "def clean_txt(input_str):\n",
    "    input_to_lower = input_str.lower() \n",
    "    input_no_digit = re.sub(r'\\d+', '', input_to_lower) # without digits\n",
    "    clean_input = input_no_digit.translate(str.maketrans(\"\",\"\", string.punctuation)) # clean punctuations\n",
    "    return clean_input.split()\n",
    "\n",
    "clean_data = clean_txt(data)\n",
    "print(\"Количество слов {}, Количество символов {}\".format(len(clean_data),len(data)))"
   ]
  }
 ],
 "metadata": {
  "kernelspec": {
   "display_name": "Python 3",
   "language": "python",
   "name": "python3"
  },
  "language_info": {
   "codemirror_mode": {
    "name": "ipython",
    "version": 3
   },
   "file_extension": ".py",
   "mimetype": "text/x-python",
   "name": "python",
   "nbconvert_exporter": "python",
   "pygments_lexer": "ipython3",
   "version": "3.6.8"
  }
 },
 "nbformat": 4,
 "nbformat_minor": 2
}
