{
 "cells": [
  {
   "cell_type": "code",
   "execution_count": 21,
   "metadata": {},
   "outputs": [
    {
     "ename": "TypeError",
     "evalue": "'int' object is not subscriptable",
     "output_type": "error",
     "traceback": [
      "\u001b[1;31m---------------------------------------------------------------------------\u001b[0m",
      "\u001b[1;31mTypeError\u001b[0m                                 Traceback (most recent call last)",
      "\u001b[1;32m<ipython-input-21-5418d8724a40>\u001b[0m in \u001b[0;36m<module>\u001b[1;34m\u001b[0m\n\u001b[0;32m      1\u001b[0m \u001b[0mA\u001b[0m \u001b[1;33m=\u001b[0m \u001b[1;36m176\u001b[0m\u001b[1;33m\u001b[0m\u001b[1;33m\u001b[0m\u001b[0m\n\u001b[1;32m----> 2\u001b[1;33m \u001b[0mA\u001b[0m\u001b[1;33m[\u001b[0m\u001b[1;33m-\u001b[0m\u001b[1;36m1\u001b[0m\u001b[1;33m]\u001b[0m\u001b[1;33m\u001b[0m\u001b[1;33m\u001b[0m\u001b[0m\n\u001b[0m",
      "\u001b[1;31mTypeError\u001b[0m: 'int' object is not subscriptable"
     ]
    }
   ],
   "source": [
    "def counting_sort(arr, max_value, get_index):\n",
    "    counts = [0] * max_value\n",
    "\n",
    "  # Counting - O(n)\n",
    "    for a in arr:s\n",
    "        counts[get_index(a)] += 1\n",
    "  # Accumulating - O(k)\n",
    "    for i, c in enumerate(counts):\n",
    "        if i == 0:\n",
    "            continue\n",
    "        else:\n",
    "            counts[i] += counts[i-1]\n",
    "\n",
    "  # Calculating start index - O(k)\n",
    "    for i, c in enumerate(counts[:-1]):\n",
    "        if i == 0:\n",
    "            counts[i] = 0\n",
    "        counts[i+1] = c\n",
    "\n",
    "    ret = [None] * len(arr)\n",
    "  # Sorting - O(n)\n",
    "    for a in arr:\n",
    "        index = counts[get_index(a)]\n",
    "        ret[index] = a\n",
    "        counts[get_index(a)] += 1\n",
    "    return ret"
   ]
  },
  {
   "cell_type": "code",
   "execution_count": null,
   "metadata": {},
   "outputs": [],
   "source": [
    "def get_digit(n, d):\n",
    "    for i in range(d-1):\n",
    "        n //= 10\n",
    "    return n % 10\n",
    "\n",
    "def get_num_difit(n):\n",
    "    i = 0\n",
    "    while n > 0:\n",
    "        n //= 10\n",
    "        i += 1\n",
    "    return i\n",
    "\n",
    "def radix_sort(arr, max_value):\n",
    "    num_digits = get_num_difit(max_value)\n",
    "    # O(k(n+k))\n",
    "    for d in range(num_digits):\n",
    "    # Counting sort takes O(n+k)\n",
    "        arr = counting_sort(arr, max_value, lambda a: get_digit(a, d+1))\n",
    "    return arr"
   ]
  },
  {
   "cell_type": "code",
   "execution_count": 34,
   "metadata": {},
   "outputs": [
    {
     "data": {
      "text/plain": [
       "4"
      ]
     },
     "execution_count": 34,
     "metadata": {},
     "output_type": "execute_result"
    }
   ],
   "source": []
  }
 ],
 "metadata": {
  "kernelspec": {
   "display_name": "Python 3",
   "language": "python",
   "name": "python3"
  },
  "language_info": {
   "codemirror_mode": {
    "name": "ipython",
    "version": 3
   },
   "file_extension": ".py",
   "mimetype": "text/x-python",
   "name": "python",
   "nbconvert_exporter": "python",
   "pygments_lexer": "ipython3",
   "version": "3.6.8"
  }
 },
 "nbformat": 4,
 "nbformat_minor": 2
}
