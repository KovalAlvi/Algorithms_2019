{
 "cells": [
  {
   "cell_type": "code",
   "execution_count": 20,
   "metadata": {},
   "outputs": [],
   "source": [
    "import numpy as np\n",
    "import matplotlib.pyplot as plt\n",
    "import time\n",
    "from tqdm import tqdm\n",
    "import seaborn as sns; sns.set()"
   ]
  },
  {
   "cell_type": "code",
   "execution_count": 91,
   "metadata": {},
   "outputs": [],
   "source": [
    "# Пример кода\n",
    "A = \"asdddadsfasfsdasdfasdaasfgafsgsdaqs\"\n",
    "A = A*10\n",
    "sub = \"dda\"\n"
   ]
  },
  {
   "cell_type": "code",
   "execution_count": 96,
   "metadata": {},
   "outputs": [],
   "source": [
    "\n",
    "def RK(A, sub, d=257, q=40):\n",
    "    \"\"\"Ищет подстроки в строке и выводит массив\n",
    "    Выводит массив расположений подстроки в тексте\n",
    "    Использует hash\n",
    "    Асимптотика поиска O(N+M) Зависит от коллизий\n",
    "    \"\"\"\n",
    "    n = len(A)\n",
    "    m = len(sub)\n",
    "    h = pow(d,m-1)%q\n",
    "    \n",
    "    result = []\n",
    "    p = 0 # хеш для паттерна\n",
    "    t = 0 # хеш для подстроки\n",
    "    for i in range(m): # Получаем начальные значения хеша для паттерна и подстроки\n",
    "        p = (d*p+ord(sub[i]))%q\n",
    "        t = (d*t+ord(A[i]))%q\n",
    "    \n",
    "    for s in range(n-m+1): \n",
    "        if p == t: # Побуквенная проверка\n",
    "            match = True\n",
    "            for i in range(m):\n",
    "                if sub[i] != A[s+i]:\n",
    "                    match = False\n",
    "                    break\n",
    "            if match:\n",
    "                result.append(s)\n",
    "        if s < n-m: # Пересчитываем хеш для подстроки\n",
    "            t = (t-h*ord(A[s]))%q # удаляем первый\n",
    "            t = (t*d+ord(A[s+m]))%q # добавляем следующий\n",
    "            \n",
    "    return result"
   ]
  },
  {
   "cell_type": "code",
   "execution_count": 99,
   "metadata": {},
   "outputs": [
    {
     "name": "stdout",
     "output_type": "stream",
     "text": [
      "350\n"
     ]
    },
    {
     "data": {
      "text/plain": [
       "[3, 38, 73, 108, 143, 178, 213, 248, 283, 318]"
      ]
     },
     "execution_count": 99,
     "metadata": {},
     "output_type": "execute_result"
    }
   ],
   "source": []
  },
  {
   "cell_type": "code",
   "execution_count": null,
   "metadata": {},
   "outputs": [],
   "source": []
  },
  {
   "cell_type": "code",
   "execution_count": null,
   "metadata": {},
   "outputs": [],
   "source": []
  },
  {
   "cell_type": "code",
   "execution_count": null,
   "metadata": {},
   "outputs": [],
   "source": []
  }
 ],
 "metadata": {
  "kernelspec": {
   "display_name": "Python 3",
   "language": "python",
   "name": "python3"
  },
  "language_info": {
   "codemirror_mode": {
    "name": "ipython",
    "version": 3
   },
   "file_extension": ".py",
   "mimetype": "text/x-python",
   "name": "python",
   "nbconvert_exporter": "python",
   "pygments_lexer": "ipython3",
   "version": "3.6.8"
  }
 },
 "nbformat": 4,
 "nbformat_minor": 2
}
