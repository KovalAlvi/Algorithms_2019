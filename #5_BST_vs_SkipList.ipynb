{
 "cells": [
  {
   "cell_type": "markdown",
   "metadata": {},
   "source": [
    "### Programm #5. BST and Skip List"
   ]
  },
  {
   "cell_type": "markdown",
   "metadata": {},
   "source": [
    "Written by: Kovalev Alexander  \n",
    "Department:  MSU, Physics Faculty, Mathematical Modelling and Computer Sciencegr(MMCS), gr. 435    \n",
    "  \n",
    "\n",
    "Task: Compare Binary Search tree and Skip List"
   ]
  },
  {
   "cell_type": "markdown",
   "metadata": {},
   "source": [
    "Implement two frequency dictionary with different data structure\n",
    "- Binary Search tree\n",
    "- Skip List\n",
    "\n",
    "Compare their performance, plotted follow graph:\n",
    "- x axis: size collections\n",
    "- y axis: number of comparison by incerting new word"
   ]
  },
  {
   "cell_type": "code",
   "execution_count": 1,
   "metadata": {},
   "outputs": [],
   "source": [
    "import re\n",
    "import string\n",
    "import matplotlib.pyplot as plt\n",
    "import numpy as np\n",
    "import random \n",
    "import seaborn as sns; sns.set()"
   ]
  },
  {
   "cell_type": "code",
   "execution_count": 2,
   "metadata": {},
   "outputs": [],
   "source": [
    "import seaborn as sns; sns.set()"
   ]
  },
  {
   "cell_type": "markdown",
   "metadata": {},
   "source": [
    "### 1) Binary search tree   \n"
   ]
  },
  {
   "cell_type": "code",
   "execution_count": 3,
   "metadata": {},
   "outputs": [],
   "source": [
    "class Node_tree:\n",
    "    idNumber = 0\n",
    "    def __init__(self, key, value = 1):\n",
    "        self.left = None\n",
    "        self.right = None\n",
    "        self.key = key\n",
    "        self.value = value\n",
    "        Node_tree.idNumber += 1\n",
    "    def get_idNumber():\n",
    "        return Node_tree.idNumber\n",
    "    def set_idNumber(value):\n",
    "        Node_tree.idNumber = value\n",
    "\n",
    "def incert(root, node, num_compare=0):  \n",
    "    if root is None:\n",
    "        root = node\n",
    "    else:\n",
    "        if root.key == node.key:\n",
    "            num_compare += 1\n",
    "            root.value +=1\n",
    "            Node_tree.idNumber -= 1\n",
    "        elif root.key < node.key:\n",
    "            num_compare += 1\n",
    "            if root.right is None:\n",
    "                root.right = node\n",
    "            else:\n",
    "                num_compare = incert(root.right, node, num_compare)\n",
    "        else:\n",
    "            num_compare += 1\n",
    "            if root.left is None:\n",
    "                root.left = node\n",
    "            else:\n",
    "                num_compare = incert(root.left, node, num_compare)\n",
    "    return num_compare\n",
    "def inorder(root):\n",
    "    # show our words from left to right\n",
    "    if root:\n",
    "        inorder(root.left)\n",
    "        print(root.key,root.value )\n",
    "        #dict_words[root.key] = root.value\n",
    "        inorder(root.right)"
   ]
  },
  {
   "cell_type": "markdown",
   "metadata": {},
   "source": [
    "### 2) Skip List\n"
   ]
  },
  {
   "cell_type": "code",
   "execution_count": 4,
   "metadata": {},
   "outputs": [],
   "source": [
    "\n",
    "import random \n",
    "\n",
    "class Node(): \n",
    "    idNumber = 0\n",
    "    def __init__(self, key, level): \n",
    "        self.key = key \n",
    "        self.value = 1 \n",
    "        self.forward = [None]*(level+1) \n",
    "        Node.idNumber += 1\n",
    "    def set_idNumber(value):\n",
    "        Node.idNumber = value\n",
    "    def get_idNumber():\n",
    "        return Node.idNumber\n",
    "        \n",
    "        \n",
    "\n",
    "class SkipList(): \n",
    "    def __init__(self, max_lvl, P): \n",
    "        self.MAXLVL = max_lvl   \n",
    "        self.P = P \n",
    "        # create header node and initialize key to ''\n",
    "        self.header = self.createNode(self.MAXLVL, '') \n",
    "        self.level = 0\n",
    "    \n",
    "    def createNode(self, lvl, key): \n",
    "        n = Node(key, lvl) \n",
    "        return n \n",
    "      \n",
    "    # create random level for node \n",
    "    def randomLevel(self): \n",
    "        lvl = 0\n",
    "        while random.random()<self.P and lvl<self.MAXLVL:\n",
    "            lvl += 1\n",
    "        return lvl \n",
    "    \n",
    "    # insert given key in skip list \n",
    "    def show_dict(self):\n",
    "        current = self.header\n",
    "        print(current.key, current.value)\n",
    "        while current.forward[0]:\n",
    "            print(current.key, current.value)\n",
    "            current = current.forward[0]\n",
    "        \n",
    "    def insertElement(self, key): \n",
    "        num_compares = 0\n",
    "        update = [None]*(self.MAXLVL+1) \n",
    "        current = self.header\n",
    "                \n",
    "        for i in range(self.level, -1, -1): \n",
    "            while current.forward[i] and current.forward[i].key < key: \n",
    "                num_compares += 1\n",
    "                current = current.forward[i] \n",
    "            #num_compares += 1\n",
    "            update[i] = current \n",
    "        \n",
    "        current = current.forward[0] \n",
    "        \n",
    "        num_compares += 1\n",
    "        if current is None or current.key != key: \n",
    "            # Generate a random level for node \n",
    "            rlevel = self.randomLevel() \n",
    "            #num_compares += 1\n",
    "            if rlevel > self.level: \n",
    "                for i in range(self.level+1, rlevel+1): \n",
    "                    update[i] = self.header \n",
    "                self.level = rlevel \n",
    "            n = self.createNode(rlevel, key) \n",
    "           # insert node by rearranging references  \n",
    "            for i in range(rlevel+1): \n",
    "                n.forward[i] = update[i].forward[i] \n",
    "                update[i].forward[i] = n \n",
    "        else:\n",
    "            current.value += 1\n",
    "        return num_compares\n",
    "    \n"
   ]
  },
  {
   "cell_type": "markdown",
   "metadata": {},
   "source": [
    "### 3) Minimal preprocessing"
   ]
  },
  {
   "cell_type": "code",
   "execution_count": 5,
   "metadata": {},
   "outputs": [
    {
     "name": "stdout",
     "output_type": "stream",
     "text": [
      "Количество слов 59822,\n",
      "Количество символов 429317 \n",
      "Количество уникальных слов 8037\n"
     ]
    }
   ],
   "source": [
    "kant_file = open(\"Kritika.txt\", \"r\")\n",
    "data = kant_file.read() # len = 25507\n",
    "kant_file.close()\n",
    "\n",
    "def clean_txt(input_str):\n",
    "    input_to_lower = input_str.lower() \n",
    "    input_no_digit = re.sub(r'\\d+', '', input_to_lower) # without digits\n",
    "    clean_input = input_no_digit.translate(str.maketrans(\"\",\"\", string.punctuation)) # clean punctuations\n",
    "    return clean_input.split()\n",
    "\n",
    "clean_data = clean_txt(data)\n",
    "print(\"Количество слов {},\\nКоличество символов {} \\nКоличество уникальных слов {}\".format(len(clean_data),\n",
    "                                                                                           len(data), len(set(clean_data))))\n",
    "    "
   ]
  },
  {
   "cell_type": "markdown",
   "metadata": {},
   "source": [
    "### 4) Compare tree and skip list"
   ]
  },
  {
   "cell_type": "markdown",
   "metadata": {},
   "source": [
    "#### Estimation functions"
   ]
  },
  {
   "cell_type": "code",
   "execution_count": 6,
   "metadata": {},
   "outputs": [],
   "source": [
    "def estimate_tree(clean_data):\n",
    "    \"\"\"Input: clean text\n",
    "       Output: num_compares, tree_sizes\n",
    "    \"\"\"\n",
    "    Node_tree.set_idNumber(0) # zero outr counter of unique keys in tree\n",
    "    num_compares = []\n",
    "    tree_sizes = []\n",
    "\n",
    "    root_kant = Node_tree(clean_data[0])\n",
    "    for word in clean_data:\n",
    "        num_compares.append(incert(root_kant, Node_tree(word)))\n",
    "        tree_sizes.append(Node_tree.get_idNumber())\n",
    "    return num_compares, tree_sizes\n",
    "    \n",
    "def estimate_list(clean_data):\n",
    "    \"\"\"Input: clean text\n",
    "       Output: num_compares, tree_sizes\n",
    "    \"\"\"\n",
    "    Node.set_idNumber(0) # zero outr counter of unique keys in tree\n",
    "    num_compares = []\n",
    "    list_size = []\n",
    "    lst = SkipList(1500, 0.0001)\n",
    "\n",
    "    for word in clean_data:\n",
    "        num_compares.append(lst.insertElement(word))\n",
    "        list_size.append(Node.get_idNumber())\n",
    "        \n",
    "    return num_compares, list_size   "
   ]
  },
  {
   "cell_type": "code",
   "execution_count": 7,
   "metadata": {},
   "outputs": [],
   "source": [
    "compares_array_tree, sizes_array_tree =  estimate_tree(clean_data)\n",
    "compares_array_list, sizes_array_list =  estimate_list(clean_data)"
   ]
  },
  {
   "cell_type": "code",
   "execution_count": null,
   "metadata": {},
   "outputs": [],
   "source": []
  },
  {
   "cell_type": "code",
   "execution_count": 16,
   "metadata": {},
   "outputs": [
    {
     "data": {
      "text/plain": [
       "<matplotlib.legend.Legend at 0x2dab9fc49b0>"
      ]
     },
     "execution_count": 16,
     "metadata": {},
     "output_type": "execute_result"
    },
    {
     "data": {
      "image/png": "[encoded data removed]",
      "text/plain": [
       "<Figure size 720x432 with 1 Axes>"
      ]
     },
     "metadata": {},
     "output_type": "display_data"
    }
   ],
   "source": [
    "N =100\n",
    "#for BST\n",
    "# average_compare_tree = np.convolve(compares_array_tree, np.ones((N,))/N, mode='valid')\n",
    "# average_sizes_tree = np.convolve(sizes_array_tree, np.ones((N,))/N, mode='valid')\n",
    "#for SkipList with MaxLevel = 500, p = 0.5\n",
    "average_compare_list = np.convolve(compares_array_list, np.ones((N,))/N, mode='valid')\n",
    "average_sizes_list = np.convolve(sizes_array_list, np.ones((N,))/N, mode='valid')\n",
    "\n",
    "plt.figure(figsize = (10,6))\n",
    "\n",
    "#plt.plot(average_sizes_tree, average_compare_tree, label = 'BST')\n",
    "plt.plot(average_sizes_list, average_compare_list, label = 'SkipList')\n",
    "\n",
    "\n",
    "\n",
    "#text stuff\n",
    "plt.title(\"Compare BST and SkipList on Kant\")\n",
    "plt.xlabel(\"Size of collection\")\n",
    "plt.ylabel(\"Number of compare\")\n",
    "plt.legend()\n"
   ]
  },
  {
   "cell_type": "markdown",
   "metadata": {},
   "source": [
    "Try to use another text"
   ]
  },
  {
   "cell_type": "code",
   "execution_count": 9,
   "metadata": {},
   "outputs": [
    {
     "name": "stdout",
     "output_type": "stream",
     "text": [
      "Количество слов 302352, Количество символов 1818247\n"
     ]
    }
   ],
   "source": [
    "dost_file = open(\"bratya-karamazovy.txt\", \"r\")\n",
    "data = dost_file.read() \n",
    "dost_file.close()\n",
    "\n",
    "def clean_txt(input_str):\n",
    "    input_to_lower = input_str.lower() \n",
    "    input_no_digit = re.sub(r'\\d+', '', input_to_lower) # without digits\n",
    "    clean_input = input_no_digit.translate(str.maketrans(\"\",\"\", string.punctuation)) # clean punctuations\n",
    "    return clean_input.split()\n",
    "\n",
    "clean_data_dost = clean_txt(data)\n",
    "print(\"Количество слов {}, Количество символов {}\".format(len(clean_data_dost),len(data)))"
   ]
  },
  {
   "cell_type": "code",
   "execution_count": 10,
   "metadata": {},
   "outputs": [
    {
     "name": "stdout",
     "output_type": "stream",
     "text": [
      " Number of unique words in text: 40045 \n",
      " First word:  начиная\n"
     ]
    }
   ],
   "source": [
    "print(\" Number of unique words in text:\", len(set(clean_data_dost)), \n",
    "      '\\n First word: ', clean_data_dost[0])"
   ]
  },
  {
   "cell_type": "code",
   "execution_count": 11,
   "metadata": {},
   "outputs": [
    {
     "ename": "KeyboardInterrupt",
     "evalue": "",
     "output_type": "error",
     "traceback": [
      "\u001b[1;31m---------------------------------------------------------------------------\u001b[0m",
      "\u001b[1;31mKeyboardInterrupt\u001b[0m                         Traceback (most recent call last)",
      "\u001b[1;32m<ipython-input-11-d6ef436bdfe6>\u001b[0m in \u001b[0;36m<module>\u001b[1;34m\u001b[0m\n\u001b[0;32m      1\u001b[0m \u001b[0mcompares_array_tree\u001b[0m\u001b[1;33m,\u001b[0m \u001b[0msizes_array_tree\u001b[0m \u001b[1;33m=\u001b[0m  \u001b[0mestimate_tree\u001b[0m\u001b[1;33m(\u001b[0m\u001b[0mclean_data_dost\u001b[0m\u001b[1;33m)\u001b[0m\u001b[1;33m\u001b[0m\u001b[1;33m\u001b[0m\u001b[0m\n\u001b[1;32m----> 2\u001b[1;33m \u001b[0mcompares_array_list\u001b[0m\u001b[1;33m,\u001b[0m \u001b[0msizes_array_list\u001b[0m \u001b[1;33m=\u001b[0m  \u001b[0mestimate_list\u001b[0m\u001b[1;33m(\u001b[0m\u001b[0mclean_data_dost\u001b[0m\u001b[1;33m)\u001b[0m\u001b[1;33m\u001b[0m\u001b[1;33m\u001b[0m\u001b[0m\n\u001b[0m",
      "\u001b[1;32m<ipython-input-6-5a55d50b08fd>\u001b[0m in \u001b[0;36mestimate_list\u001b[1;34m(clean_data)\u001b[0m\n\u001b[0;32m     23\u001b[0m \u001b[1;33m\u001b[0m\u001b[0m\n\u001b[0;32m     24\u001b[0m     \u001b[1;32mfor\u001b[0m \u001b[0mword\u001b[0m \u001b[1;32min\u001b[0m \u001b[0mclean_data\u001b[0m\u001b[1;33m:\u001b[0m\u001b[1;33m\u001b[0m\u001b[1;33m\u001b[0m\u001b[0m\n\u001b[1;32m---> 25\u001b[1;33m         \u001b[0mnum_compares\u001b[0m\u001b[1;33m.\u001b[0m\u001b[0mappend\u001b[0m\u001b[1;33m(\u001b[0m\u001b[0mlst\u001b[0m\u001b[1;33m.\u001b[0m\u001b[0minsertElement\u001b[0m\u001b[1;33m(\u001b[0m\u001b[0mword\u001b[0m\u001b[1;33m)\u001b[0m\u001b[1;33m)\u001b[0m\u001b[1;33m\u001b[0m\u001b[1;33m\u001b[0m\u001b[0m\n\u001b[0m\u001b[0;32m     26\u001b[0m         \u001b[0mlist_size\u001b[0m\u001b[1;33m.\u001b[0m\u001b[0mappend\u001b[0m\u001b[1;33m(\u001b[0m\u001b[0mNode\u001b[0m\u001b[1;33m.\u001b[0m\u001b[0mget_idNumber\u001b[0m\u001b[1;33m(\u001b[0m\u001b[1;33m)\u001b[0m\u001b[1;33m)\u001b[0m\u001b[1;33m\u001b[0m\u001b[1;33m\u001b[0m\u001b[0m\n\u001b[0;32m     27\u001b[0m \u001b[1;33m\u001b[0m\u001b[0m\n",
      "\u001b[1;32m<ipython-input-4-be8c53ee7744>\u001b[0m in \u001b[0;36minsertElement\u001b[1;34m(self, key)\u001b[0m\n\u001b[0;32m     50\u001b[0m         \u001b[1;32mfor\u001b[0m \u001b[0mi\u001b[0m \u001b[1;32min\u001b[0m \u001b[0mrange\u001b[0m\u001b[1;33m(\u001b[0m\u001b[0mself\u001b[0m\u001b[1;33m.\u001b[0m\u001b[0mlevel\u001b[0m\u001b[1;33m,\u001b[0m \u001b[1;33m-\u001b[0m\u001b[1;36m1\u001b[0m\u001b[1;33m,\u001b[0m \u001b[1;33m-\u001b[0m\u001b[1;36m1\u001b[0m\u001b[1;33m)\u001b[0m\u001b[1;33m:\u001b[0m\u001b[1;33m\u001b[0m\u001b[1;33m\u001b[0m\u001b[0m\n\u001b[0;32m     51\u001b[0m             \u001b[1;32mwhile\u001b[0m \u001b[0mcurrent\u001b[0m\u001b[1;33m.\u001b[0m\u001b[0mforward\u001b[0m\u001b[1;33m[\u001b[0m\u001b[0mi\u001b[0m\u001b[1;33m]\u001b[0m \u001b[1;32mand\u001b[0m \u001b[0mcurrent\u001b[0m\u001b[1;33m.\u001b[0m\u001b[0mforward\u001b[0m\u001b[1;33m[\u001b[0m\u001b[0mi\u001b[0m\u001b[1;33m]\u001b[0m\u001b[1;33m.\u001b[0m\u001b[0mkey\u001b[0m \u001b[1;33m<\u001b[0m \u001b[0mkey\u001b[0m\u001b[1;33m:\u001b[0m\u001b[1;33m\u001b[0m\u001b[1;33m\u001b[0m\u001b[0m\n\u001b[1;32m---> 52\u001b[1;33m                 \u001b[0mnum_compares\u001b[0m \u001b[1;33m+=\u001b[0m \u001b[1;36m1\u001b[0m\u001b[1;33m\u001b[0m\u001b[1;33m\u001b[0m\u001b[0m\n\u001b[0m\u001b[0;32m     53\u001b[0m                 \u001b[0mcurrent\u001b[0m \u001b[1;33m=\u001b[0m \u001b[0mcurrent\u001b[0m\u001b[1;33m.\u001b[0m\u001b[0mforward\u001b[0m\u001b[1;33m[\u001b[0m\u001b[0mi\u001b[0m\u001b[1;33m]\u001b[0m\u001b[1;33m\u001b[0m\u001b[1;33m\u001b[0m\u001b[0m\n\u001b[0;32m     54\u001b[0m             \u001b[1;31m#num_compares += 1\u001b[0m\u001b[1;33m\u001b[0m\u001b[1;33m\u001b[0m\u001b[1;33m\u001b[0m\u001b[0m\n",
      "\u001b[1;31mKeyboardInterrupt\u001b[0m: "
     ]
    }
   ],
   "source": [
    "compares_array_tree, sizes_array_tree =  estimate_tree(clean_data_dost)\n",
    "compares_array_list, sizes_array_list =  estimate_list(clean_data_dost)"
   ]
  },
  {
   "cell_type": "code",
   "execution_count": null,
   "metadata": {},
   "outputs": [],
   "source": [
    "N = 3000\n",
    "#for BST\n",
    "average_compare_tree = np.convolve(compares_array_tree, np.ones((N,))/N, mode='valid')\n",
    "average_sizes_tree = np.convolve(sizes_array_tree, np.ones((N,))/N, mode='valid')\n",
    "#for SkipList with MaxLevel = 500, p = 0.5\n",
    "average_compare_list = np.convolve(compares_array_list, np.ones((N,))/N, mode='valid')\n",
    "average_sizes_list = np.convolve(sizes_array_list, np.ones((N,))/N, mode='valid')\n",
    "\n",
    "plt.figure(figsize = (10,6))\n",
    "\n",
    "plt.plot(average_sizes_tree, average_compare_tree, label = 'BST')\n",
    "plt.plot(average_sizes_list, average_compare_list, label = 'SkipList')\n",
    "\n",
    "\n",
    "\n",
    "#text stuff\n",
    "plt.title(\"Compare BST and SkipList on Dost\")\n",
    "plt.xlabel(\"Size of collection\")\n",
    "plt.ylabel(\"Number of compare\")\n",
    "plt.legend()\n"
   ]
  },
  {
   "cell_type": "code",
   "execution_count": null,
   "metadata": {},
   "outputs": [],
   "source": []
  },
  {
   "cell_type": "code",
   "execution_count": null,
   "metadata": {},
   "outputs": [],
   "source": []
  },
  {
   "cell_type": "code",
   "execution_count": null,
   "metadata": {},
   "outputs": [],
   "source": []
  },
  {
   "cell_type": "code",
   "execution_count": null,
   "metadata": {},
   "outputs": [],
   "source": []
  }
 ],
 "metadata": {
  "kernelspec": {
   "display_name": "Python 3",
   "language": "python",
   "name": "python3"
  },
  "language_info": {
   "codemirror_mode": {
    "name": "ipython",
    "version": 3
   },
   "file_extension": ".py",
   "mimetype": "text/x-python",
   "name": "python",
   "nbconvert_exporter": "python",
   "pygments_lexer": "ipython3",
   "version": "3.6.8"
  }
 },
 "nbformat": 4,
 "nbformat_minor": 2
}
