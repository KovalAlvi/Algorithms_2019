{
 "cells": [
  {
   "cell_type": "markdown",
   "metadata": {},
   "source": [
    "## Heap sort\n"
   ]
  },
  {
   "cell_type": "markdown",
   "metadata": {},
   "source": [
    "Sorted inplace\n",
    "- Worst Case:    O(n log n)  \n",
    "- Best Case:     O(n log n)  \n",
    "- Average Case:  O(n log n)  "
   ]
  },
  {
   "cell_type": "code",
   "execution_count": 105,
   "metadata": {},
   "outputs": [],
   "source": [
    "import numpy as np\n",
    "import matplotlib.pyplot as plt\n",
    "import time\n",
    "from tqdm import tqdm\n",
    "import seaborn as sns; sns.set()"
   ]
  },
  {
   "cell_type": "code",
   "execution_count": 144,
   "metadata": {},
   "outputs": [],
   "source": [
    "# n is size of heap \n",
    "def heapify(arr, N, idx):\n",
    "    largest = idx # Initialize largest as root \n",
    "    left = 2 * idx + 1     # left = 2*i + 1 \n",
    "    right = left + 1     # right = 2*i + 2 \n",
    "    \n",
    "    #compare wirh a child\n",
    "    if left < N and arr[idx] < arr[left]: \n",
    "        largest = left     \n",
    "    if right < N and arr[largest] < arr[right]: \n",
    "        largest = right\n",
    "    #swap\n",
    "    if largest != idx: \n",
    "        arr[idx], arr[largest] = arr[largest],arr[idx] # swap \n",
    "        heapify(arr, N, largest) \n",
    "        \n",
    "def heap_sort(arr): \n",
    "    N = len(arr) \n",
    "    # Build a maxheap.\n",
    "    for i in range(N, -1, -1): \n",
    "        heapify(arr, N, i) \n",
    "        \n",
    "    for i in range(N-1, 0, -1): \n",
    "        arr[i], arr[0] = arr[0], arr[i] # swap \n",
    "        heapify(arr, i, 0) \n",
    "  # Driver code to test above \n",
    "\n",
    "\n",
    "# This code is contributed by Mohit Kumra "
   ]
  },
  {
   "cell_type": "markdown",
   "metadata": {},
   "source": [
    "### Selection sort"
   ]
  },
  {
   "cell_type": "markdown",
   "metadata": {},
   "source": [
    "Sorted inplace\n",
    "- Worst Case: O($n^2$)\n",
    "- Best Case: O($n^2$)\n",
    "- Average Case: O($n^2$) "
   ]
  },
  {
   "cell_type": "code",
   "execution_count": 118,
   "metadata": {},
   "outputs": [],
   "source": [
    "def selection_sort(A):\n",
    "    for i in range(len(A)): \n",
    "        min_idx = i \n",
    "        for j in range(i+1, len(A)): \n",
    "            if A[min_idx] > A[j]: \n",
    "                min_idx = j         \n",
    "        A[i], A[min_idx] = A[min_idx], A[i]\n"
   ]
  },
  {
   "cell_type": "markdown",
   "metadata": {},
   "source": [
    "#### Сравнение алгоритмов сортировки для массива разной длины"
   ]
  },
  {
   "cell_type": "code",
   "execution_count": 140,
   "metadata": {},
   "outputs": [],
   "source": [
    "def meusure_time(fun, A, lenghts = [1000]):\n",
    "    \"\"\"Функция вычисляющая время работы алгоритма\n",
    "       для разного размера\n",
    "       Выводит массив со временем(в секундах)\"\"\"\n",
    "    mas = []\n",
    "    N = 3 # по какому брать среднее\n",
    "    \n",
    "    for i in tqdm(lenghts): # progress bar\n",
    "        interval = 0\n",
    "        for j in range(N):\n",
    "            start_time = time.time()\n",
    "            fun(A[:i])\n",
    "            end_time = time.time()\n",
    "            interval += end_time - start_time\n",
    "        mas.append((interval)/N)\n",
    "    return mas"
   ]
  },
  {
   "cell_type": "code",
   "execution_count": 141,
   "metadata": {},
   "outputs": [],
   "source": [
    "A = np.random.rand(100*k)\n",
    "B = A.copy()"
   ]
  },
  {
   "cell_type": "code",
   "execution_count": 153,
   "metadata": {},
   "outputs": [
    {
     "name": "stderr",
     "output_type": "stream",
     "text": [
      "\n",
      "\n",
      "\n",
      "\n",
      "  0%|                                                   | 0/20 [00:00<?, ?it/s]\n",
      "\n",
      "\n",
      "\n",
      " 10%|████▎                                      | 2/20 [00:00<00:04,  3.77it/s]\n",
      "\n",
      "\n",
      "\n",
      " 15%|██████▍                                    | 3/20 [00:01<00:07,  2.19it/s]\n",
      "\n",
      "\n",
      "\n",
      " 20%|████████▌                                  | 4/20 [00:02<00:11,  1.35it/s]\n",
      "\n",
      "\n",
      "\n",
      " 25%|██████████▊                                | 5/20 [00:04<00:15,  1.04s/it]\n",
      "\n",
      "\n",
      "\n",
      " 30%|████████████▉                              | 6/20 [00:06<00:20,  1.44s/it]\n",
      "\n",
      "\n",
      "\n",
      " 35%|███████████████                            | 7/20 [00:09<00:23,  1.78s/it]\n",
      "\n",
      "\n",
      "\n",
      " 40%|█████████████████▏                         | 8/20 [00:12<00:26,  2.17s/it]\n",
      "\n",
      "\n",
      "\n",
      " 45%|███████████████████▎                       | 9/20 [00:17<00:31,  2.84s/it]\n",
      "\n",
      "\n",
      "\n",
      " 50%|█████████████████████                     | 10/20 [00:21<00:32,  3.25s/it]\n",
      "\n",
      "\n",
      "\n",
      " 55%|███████████████████████                   | 11/20 [00:25<00:32,  3.65s/it]\n",
      "\n",
      "\n",
      "\n",
      " 60%|█████████████████████████▏                | 12/20 [00:30<00:32,  4.10s/it]\n",
      "\n",
      "\n",
      "\n",
      " 65%|███████████████████████████▎              | 13/20 [00:36<00:31,  4.47s/it]\n",
      "\n",
      "\n",
      "\n",
      " 70%|█████████████████████████████▍            | 14/20 [00:42<00:29,  4.86s/it]\n",
      "\n",
      "\n",
      "\n",
      " 75%|███████████████████████████████▌          | 15/20 [00:48<00:26,  5.32s/it]\n",
      "\n",
      "\n",
      "\n",
      " 80%|█████████████████████████████████▌        | 16/20 [00:55<00:23,  5.89s/it]\n",
      "\n",
      "\n",
      "\n",
      " 85%|███████████████████████████████████▋      | 17/20 [01:02<00:18,  6.28s/it]\n",
      "\n",
      "\n",
      "\n",
      " 90%|█████████████████████████████████████▊    | 18/20 [01:10<00:13,  6.68s/it]\n",
      "\n",
      "\n",
      "\n",
      " 95%|███████████████████████████████████████▉  | 19/20 [01:19<00:07,  7.36s/it]\n",
      "\n",
      "\n",
      "\n",
      "100%|██████████████████████████████████████████| 20/20 [01:29<00:00,  8.12s/it]"
     ]
    }
   ],
   "source": [
    "k = 1000\n",
    "lenghts = [i for i in range(k,100*k,5*k)] # 1 000 000\n",
    "mas_1 = meusure_time(heap_sort, A ,lenghts)\n",
    "#mas_2 = meusure_time(selection_sort, B, lenghts)\n",
    "\n"
   ]
  },
  {
   "cell_type": "code",
   "execution_count": 150,
   "metadata": {},
   "outputs": [],
   "source": [
    "sns.set()"
   ]
  },
  {
   "cell_type": "code",
   "execution_count": 167,
   "metadata": {},
   "outputs": [
    {
     "name": "stdout",
     "output_type": "stream",
     "text": [
      "[0.02302585 0.17399029 0.34120719 0.51628501 0.69665944 0.88104049\n",
      " 1.06864672 1.25895291 1.4515814  1.64624749 1.84272875 2.04084663\n",
      " 2.24045459 2.4414302  2.64366965 2.84708378 3.0515952  3.25713607\n",
      " 3.46364648 3.67107311]\n"
     ]
    },
    {
     "data": {
      "text/plain": [
       "Text(0.5, 1.0, 'Сравнение selection_sort vs heap_sort для разной длины массива')"
      ]
     },
     "execution_count": 167,
     "metadata": {},
     "output_type": "execute_result"
    },
    {
     "data": {
      "image/png": "[encoded data removed]",
      "text/plain": [
       "<Figure size 720x432 with 1 Axes>"
      ]
     },
     "metadata": {},
     "output_type": "display_data"
    }
   ],
   "source": [
    "asym = lenghts*np.log(lenghts) /300000\n",
    "asym_2 = np.array(lenghts) / 300000\n",
    "print(asym)\n",
    "plt.figure(figsize = (10,6))\n",
    "plt.plot(lenghts, mas_1, '*', label='selection_sort', ms=10)\n",
    "plt.plot(lenghts, asym)\n",
    "plt.plot(lenghts, asym_2)\n",
    "#plt.plot(lenghts, mas2, 'o', label ='heap_sort', ms=8)\n",
    "plt.xlabel('Длина массива'); plt.ylabel('Время, c')\n",
    "plt.legend()\n",
    "plt.title('Сравнение selection_sort vs heap_sort для разной длины массива')"
   ]
  },
  {
   "cell_type": "code",
   "execution_count": 46,
   "metadata": {},
   "outputs": [],
   "source": [
    "def bubble(mas):\n",
    "    for j in range(0, len(mas)-1): \n",
    "        if mas[j] > mas[j+1] :\n",
    "            mas[j], mas[j+1] = mas[j+1], mas[j]    \n",
    "    return mas\n",
    "def create_table(N, jump = 1):\n",
    "    \"\"\"Create inverse sorted massive\n",
    "    and take bubble to normal sorted massive\n",
    "    Output: (N, N/jump)\n",
    "    \"\"\"\n",
    "    Mas = np.zeros((N,N))\n",
    "    Mas[:,0] = np.arange(N, 0, -1)\n",
    "    for i in range(1,N):\n",
    "        Mas[:,i] = bubble(Mas[:,i-1])\n",
    "    return Mas[:, ::jump]\n"
   ]
  },
  {
   "cell_type": "code",
   "execution_count": 52,
   "metadata": {},
   "outputs": [
    {
     "data": {
      "text/plain": [
       "(10000, 2000)"
      ]
     },
     "execution_count": 52,
     "metadata": {},
     "output_type": "execute_result"
    }
   ],
   "source": [
    "Mas_1 = create_table(10000, 5)\n",
    "Mas_1.shape"
   ]
  },
  {
   "cell_type": "code",
   "execution_count": 95,
   "metadata": {},
   "outputs": [
    {
     "data": {
      "text/plain": [
       "array([[0.58634448],\n",
       "       [0.05943974],\n",
       "       [0.3654746 ]])"
      ]
     },
     "execution_count": 95,
     "metadata": {},
     "output_type": "execute_result"
    }
   ],
   "source": [
    "arr = np.random.rand(3,1)\n"
   ]
  },
  {
   "cell_type": "code",
   "execution_count": 97,
   "metadata": {},
   "outputs": [
    {
     "data": {
      "text/plain": [
       "[10, 9, 8, 7, 6, 5, 4, 3, 2, 1, 0]"
      ]
     },
     "execution_count": 97,
     "metadata": {},
     "output_type": "execute_result"
    }
   ],
   "source": []
  },
  {
   "cell_type": "code",
   "execution_count": null,
   "metadata": {},
   "outputs": [],
   "source": []
  }
 ],
 "metadata": {
  "kernelspec": {
   "display_name": "Python 3",
   "language": "python",
   "name": "python3"
  },
  "language_info": {
   "codemirror_mode": {
    "name": "ipython",
    "version": 3
   },
   "file_extension": ".py",
   "mimetype": "text/x-python",
   "name": "python",
   "nbconvert_exporter": "python",
   "pygments_lexer": "ipython3",
   "version": "3.6.8"
  }
 },
 "nbformat": 4,
 "nbformat_minor": 2
}
