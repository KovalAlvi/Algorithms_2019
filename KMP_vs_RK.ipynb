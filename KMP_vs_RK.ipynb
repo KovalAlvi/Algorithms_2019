{
 "cells": [
  {
   "cell_type": "code",
   "execution_count": 54,
   "metadata": {},
   "outputs": [],
   "source": [
    "import numpy as np\n",
    "import matplotlib.pyplot as plt\n",
    "import time\n",
    "from tqdm import tqdm\n",
    "import seaborn as sns; sns.set()"
   ]
  },
  {
   "cell_type": "markdown",
   "metadata": {},
   "source": [
    "### Реализация алгоритма Кнута - Морриса-Прата (КМП)"
   ]
  },
  {
   "cell_type": "code",
   "execution_count": 2,
   "metadata": {},
   "outputs": [],
   "source": [
    "#aabcad\n",
    "#010010\n",
    "def prefix_table(string):\n",
    "    \"\"\"На вход принимает строчку\n",
    "    Выводит mas (len(string)) выводящий \n",
    "    для каждого элемента значение префикс функции\"\"\"\n",
    "    prefix_count = 0\n",
    "    mas = [0]*len(string)\n",
    "    for i in range(1, len(string)):\n",
    "        if string[i] == string[prefix_count]:\n",
    "            prefix_count +=1\n",
    "        else:\n",
    "            prefix_count = 0\n",
    "        mas[i] = prefix_count\n",
    "    return mas\n"
   ]
  },
  {
   "cell_type": "code",
   "execution_count": 14,
   "metadata": {},
   "outputs": [],
   "source": [
    "def KMP(text, pattern ):\n",
    "    \"\"\"Ищет подстроки в строке и выводит массив\n",
    "    Выводит массив расположений подстроки в тексте\n",
    "    Асимптотика поиска O(N+M)\"\"\"\n",
    "    shifts = prefix_table(pattern)\n",
    "    initial_point = []\n",
    "    m = 0; n = 0\n",
    "    while n < len(text):\n",
    "        if text[n] == pattern[m]:\n",
    "            m += 1; n += 1\n",
    "        else:\n",
    "            m = shifts[m-1]   #начинаем не с первого считать, а со смещением, тот же элемент\n",
    "        if m == len(pattern):\n",
    "            initial_point.append(n-m)\n",
    "            m = shifts[m-1]\n",
    "        elif m == 0:         #на первом ошибка\n",
    "            n += 1\n",
    "    return initial_point\n",
    "\n",
    "\n"
   ]
  },
  {
   "cell_type": "code",
   "execution_count": 15,
   "metadata": {},
   "outputs": [
    {
     "data": {
      "text/plain": [
       "[7, 10, 23]"
      ]
     },
     "execution_count": 15,
     "metadata": {},
     "output_type": "execute_result"
    }
   ],
   "source": [
    "# Пример кода\n",
    "A = \"asdddadsfasfsdasdfasdaasfgafsgsdaqs\"\n",
    "A = A\n",
    "sub = \"sf\"\n",
    "index_KMP = KMP(A, sub)\n",
    "index_KMP"
   ]
  },
  {
   "cell_type": "markdown",
   "metadata": {},
   "source": [
    "### Реализация алгоритма Рабина Карпа (RK)\n",
    "##### Реализация хеш функции\n",
    "  \n",
    "  \n",
    "$ hash(p[1:m+1])=\\sum_{i=1}^m p[i]x^{m-i} mod(q)$\n",
    "\n"
   ]
  },
  {
   "cell_type": "code",
   "execution_count": 22,
   "metadata": {},
   "outputs": [],
   "source": [
    "def RK(A, sub, d=257, q=40):\n",
    "    \"\"\"Ищет подстроки в строке и выводит массив\n",
    "    Выводит массив расположений подстроки в тексте\n",
    "    Использует hash\n",
    "    Асимптотика поиска O(N+M) Зависит от коллизий\n",
    "    \"\"\"\n",
    "    n = len(A)\n",
    "    m = len(sub)\n",
    "    h = pow(d,m-1)%q\n",
    "    result = []\n",
    "    p = 0 # хеш для паттерна\n",
    "    t = 0 # хеш для подстроки\n",
    "    for i in range(m): # Получаем начальные значения хеша для паттерна и подстроки\n",
    "        p = (d*p+ord(sub[i]))%q\n",
    "        t = (d*t+ord(A[i]))%q\n",
    "    \n",
    "    for s in range(n-m+1): \n",
    "        if p == t: # Побуквенная проверка\n",
    "            match = True\n",
    "            for i in range(m):\n",
    "                if sub[i] != A[s+i]:\n",
    "                    match = False\n",
    "                    break\n",
    "            if match:\n",
    "                result.append(s)\n",
    "        if s < n-m: # Пересчитываем хеш для подстроки\n",
    "            t = (t-h*ord(A[s]))%q # удаляем первый\n",
    "            t = (t*d+ord(A[s+m]))%q # добавляем следующий\n",
    "\n",
    "    return result"
   ]
  },
  {
   "cell_type": "code",
   "execution_count": 31,
   "metadata": {},
   "outputs": [
    {
     "name": "stdout",
     "output_type": "stream",
     "text": [
      "[8, 43, 78, 113, 148, 183, 218, 253, 288, 323] \n",
      " [8, 43, 78, 113, 148, 183, 218, 253, 288, 323]\n",
      "True\n"
     ]
    }
   ],
   "source": [
    "# Работает ли?\n",
    "A = \"asdddadsfasfsdasdfasdaasfgafsgsdaqs\"\n",
    "A = A*10\n",
    "sub = \"fasfsdas\"\n",
    "index_RK = RK(A, sub)\n",
    "index_KMP = KMP(A, sub)\n",
    "print(index_RK,'\\n', index_KMP)\n",
    "print(index_RK == index_KMP)\n",
    "\n",
    "#Дают тот же ответ. Ура!!!"
   ]
  },
  {
   "cell_type": "markdown",
   "metadata": {},
   "source": [
    "### Сравнения KMP vs RK для китайского языка\n",
    "1. Сделаем функцию замеряющую время\n",
    "2. Считаем данные с файла\n",
    "3. Построим зависимость времени вычисления от длины текста\n",
    "4. Построим зависимость времени вычисления от длины подстроки\n",
    "5. Сравним зависимости\n"
   ]
  },
  {
   "cell_type": "code",
   "execution_count": 39,
   "metadata": {},
   "outputs": [],
   "source": [
    "def meusure_time(fun, A, sub, lenghts = [1000]):\n",
    "    \"\"\"Функция вычисляющая время работы алгоритма\n",
    "       для текста разного размера\n",
    "       Выводит массив со временем(в секундах)\"\"\"\n",
    "    mas = []\n",
    "    N = 3 # по какому брать среднее\n",
    "    \n",
    "    for i in tqdm(lenghts): # progress bar\n",
    "        interval = 0\n",
    "        for j in range(N):\n",
    "            start_time = time.time()\n",
    "            fun(A[:i], sub)\n",
    "            end_time = time.time()\n",
    "            interval += end_time - start_time\n",
    "        mas.append((interval)/N)\n",
    "    return mas\n",
    "\n"
   ]
  },
  {
   "cell_type": "code",
   "execution_count": 48,
   "metadata": {},
   "outputs": [
    {
     "name": "stdout",
     "output_type": "stream",
     "text": [
      "500000\n"
     ]
    }
   ],
   "source": [
    "import codecs\n",
    "file = codecs.open( \"Chinese.txt\", 'r',\"utf-8\" )\n",
    "data = file.read() # len = 25507\n",
    "file.close()\n"
   ]
  },
  {
   "cell_type": "code",
   "execution_count": 101,
   "metadata": {},
   "outputs": [
    {
     "name": "stdout",
     "output_type": "stream",
     "text": [
      "1000000 17\n"
     ]
    }
   ],
   "source": [
    "# Работаем с массивом текста и подстроки\n",
    "\n",
    "data = data*20\n",
    "data = data[:500000]\n",
    "data = data*2\n",
    "#data = data # 2550700\n",
    "sub= '每个地主必须养着几个外国人作保护者'\n",
    "\n",
    "print(len(data), len(sub))"
   ]
  },
  {
   "cell_type": "code",
   "execution_count": 52,
   "metadata": {},
   "outputs": [
    {
     "name": "stdout",
     "output_type": "stream",
     "text": [
      "79 79\n",
      "True\n"
     ]
    }
   ],
   "source": [
    "index_KMP =KMP(data, sub)\n",
    "index_RK =RK(data, sub)\n",
    "print(len(index_KMP), len(index_KMP))\n",
    "print(index_KMP==index_RK)"
   ]
  },
  {
   "cell_type": "markdown",
   "metadata": {},
   "source": [
    "### Зависимость времени от длины текста(при len(sub) = 5)"
   ]
  },
  {
   "cell_type": "code",
   "execution_count": 104,
   "metadata": {},
   "outputs": [
    {
     "name": "stderr",
     "output_type": "stream",
     "text": [
      "100%|████████████████████████████████████████████| 9/9 [00:11<00:00,  1.78s/it]\n",
      "100%|████████████████████████████████████████████| 9/9 [00:09<00:00,  1.46s/it]\n"
     ]
    }
   ],
   "source": [
    "k = 1000\n",
    "lenghts = [i for i in range(100*k, 1000*k, 100*k)]\n",
    "mas = meusure_time(RK, data, sub, lenghts)\n",
    "mas2 = meusure_time(KMP, data, sub, lenghts)\n",
    "\n"
   ]
  },
  {
   "cell_type": "code",
   "execution_count": 105,
   "metadata": {},
   "outputs": [
    {
     "data": {
      "text/plain": [
       "Text(0.5, 1.0, 'Сравнение KMP vs RK при len(pattern) = 17')"
      ]
     },
     "execution_count": 105,
     "metadata": {},
     "output_type": "execute_result"
    },
    {
     "data": {
      "image/png": "[encoded data removed]",
      "text/plain": [
       "<Figure size 720x432 with 1 Axes>"
      ]
     },
     "metadata": {},
     "output_type": "display_data"
    }
   ],
   "source": [
    "\n",
    "plt.figure(figsize = (10,6))\n",
    "plt.plot(lenghts, mas, '*', label='RK', ms=10)\n",
    "plt.plot(lenghts, mas2, 'o', label ='KMP', ms=8)\n",
    "plt.xlabel('Длина текста'); plt.ylabel('Время, c')\n",
    "plt.legend()\n",
    "plt.title('Сравнение KMP vs RK при len(pattern) = 17')"
   ]
  },
  {
   "cell_type": "markdown",
   "metadata": {},
   "source": [
    "\n"
   ]
  },
  {
   "cell_type": "code",
   "execution_count": 120,
   "metadata": {},
   "outputs": [
    {
     "name": "stdout",
     "output_type": "stream",
     "text": [
      "9\n"
     ]
    }
   ],
   "source": [
    "sub = data[10:1000]\n",
    "sub_str = []\n",
    "k = 0\n",
    "for i in range(100, len(sub)+1, 100):\n",
    "    sub_str.append(sub[:i])\n",
    "\n",
    "print(len(sub_str)) # до 1000 элементов через 100\n",
    "\n"
   ]
  },
  {
   "cell_type": "code",
   "execution_count": 133,
   "metadata": {},
   "outputs": [
    {
     "name": "stderr",
     "output_type": "stream",
     "text": [
      "  0%|                                                    | 0/1 [00:00<?, ?it/s]\n"
     ]
    },
    {
     "ename": "IndexError",
     "evalue": "string index out of range",
     "output_type": "error",
     "traceback": [
      "\u001b[1;31m---------------------------------------------------------------------------\u001b[0m",
      "\u001b[1;31mIndexError\u001b[0m                                Traceback (most recent call last)",
      "\u001b[1;32m<ipython-input-133-afc551c2d8ca>\u001b[0m in \u001b[0;36m<module>\u001b[1;34m\u001b[0m\n\u001b[0;32m      2\u001b[0m \u001b[0mmas2\u001b[0m \u001b[1;33m=\u001b[0m \u001b[1;33m[\u001b[0m\u001b[1;33m]\u001b[0m\u001b[1;33m\u001b[0m\u001b[1;33m\u001b[0m\u001b[0m\n\u001b[0;32m      3\u001b[0m \u001b[0mlenghts\u001b[0m \u001b[1;33m=\u001b[0m \u001b[1;33m[\u001b[0m\u001b[1;36m800\u001b[0m\u001b[1;33m*\u001b[0m\u001b[0mk\u001b[0m\u001b[1;33m]\u001b[0m\u001b[1;33m\u001b[0m\u001b[1;33m\u001b[0m\u001b[0m\n\u001b[1;32m----> 4\u001b[1;33m \u001b[0mprint\u001b[0m\u001b[1;33m(\u001b[0m\u001b[1;33m(\u001b[0m\u001b[0mmeusure_time\u001b[0m\u001b[1;33m(\u001b[0m\u001b[0mRK\u001b[0m\u001b[1;33m,\u001b[0m\u001b[0mdata\u001b[0m\u001b[1;33m,\u001b[0m \u001b[0msub\u001b[0m\u001b[1;33m,\u001b[0m \u001b[0mlenghts\u001b[0m\u001b[1;33m)\u001b[0m\u001b[1;33m)\u001b[0m\u001b[1;33m)\u001b[0m\u001b[1;33m\u001b[0m\u001b[1;33m\u001b[0m\u001b[0m\n\u001b[0m\u001b[0;32m      5\u001b[0m \u001b[1;33m\u001b[0m\u001b[0m\n\u001b[0;32m      6\u001b[0m \u001b[1;33m\u001b[0m\u001b[0m\n",
      "\u001b[1;32m<ipython-input-39-b38a2d2aeaa7>\u001b[0m in \u001b[0;36mmeusure_time\u001b[1;34m(fun, A, sub, lenghts)\u001b[0m\n\u001b[0;32m     10\u001b[0m         \u001b[1;32mfor\u001b[0m \u001b[0mj\u001b[0m \u001b[1;32min\u001b[0m \u001b[0mrange\u001b[0m\u001b[1;33m(\u001b[0m\u001b[0mN\u001b[0m\u001b[1;33m)\u001b[0m\u001b[1;33m:\u001b[0m\u001b[1;33m\u001b[0m\u001b[1;33m\u001b[0m\u001b[0m\n\u001b[0;32m     11\u001b[0m             \u001b[0mstart_time\u001b[0m \u001b[1;33m=\u001b[0m \u001b[0mtime\u001b[0m\u001b[1;33m.\u001b[0m\u001b[0mtime\u001b[0m\u001b[1;33m(\u001b[0m\u001b[1;33m)\u001b[0m\u001b[1;33m\u001b[0m\u001b[1;33m\u001b[0m\u001b[0m\n\u001b[1;32m---> 12\u001b[1;33m             \u001b[0mfun\u001b[0m\u001b[1;33m(\u001b[0m\u001b[0mA\u001b[0m\u001b[1;33m[\u001b[0m\u001b[1;33m:\u001b[0m\u001b[0mi\u001b[0m\u001b[1;33m]\u001b[0m\u001b[1;33m,\u001b[0m \u001b[0msub\u001b[0m\u001b[1;33m)\u001b[0m\u001b[1;33m\u001b[0m\u001b[1;33m\u001b[0m\u001b[0m\n\u001b[0m\u001b[0;32m     13\u001b[0m             \u001b[0mend_time\u001b[0m \u001b[1;33m=\u001b[0m \u001b[0mtime\u001b[0m\u001b[1;33m.\u001b[0m\u001b[0mtime\u001b[0m\u001b[1;33m(\u001b[0m\u001b[1;33m)\u001b[0m\u001b[1;33m\u001b[0m\u001b[1;33m\u001b[0m\u001b[0m\n\u001b[0;32m     14\u001b[0m             \u001b[0minterval\u001b[0m \u001b[1;33m+=\u001b[0m \u001b[0mend_time\u001b[0m \u001b[1;33m-\u001b[0m \u001b[0mstart_time\u001b[0m\u001b[1;33m\u001b[0m\u001b[1;33m\u001b[0m\u001b[0m\n",
      "\u001b[1;32m<ipython-input-22-4b0c03ef7b8d>\u001b[0m in \u001b[0;36mRK\u001b[1;34m(A, sub, d, q)\u001b[0m\n\u001b[0;32m     13\u001b[0m     \u001b[1;32mfor\u001b[0m \u001b[0mi\u001b[0m \u001b[1;32min\u001b[0m \u001b[0mrange\u001b[0m\u001b[1;33m(\u001b[0m\u001b[0mm\u001b[0m\u001b[1;33m)\u001b[0m\u001b[1;33m:\u001b[0m \u001b[1;31m# Получаем начальные значения хеша для паттерна и подстроки\u001b[0m\u001b[1;33m\u001b[0m\u001b[1;33m\u001b[0m\u001b[0m\n\u001b[0;32m     14\u001b[0m         \u001b[0mp\u001b[0m \u001b[1;33m=\u001b[0m \u001b[1;33m(\u001b[0m\u001b[0md\u001b[0m\u001b[1;33m*\u001b[0m\u001b[0mp\u001b[0m\u001b[1;33m+\u001b[0m\u001b[0mord\u001b[0m\u001b[1;33m(\u001b[0m\u001b[0msub\u001b[0m\u001b[1;33m[\u001b[0m\u001b[0mi\u001b[0m\u001b[1;33m]\u001b[0m\u001b[1;33m)\u001b[0m\u001b[1;33m)\u001b[0m\u001b[1;33m%\u001b[0m\u001b[0mq\u001b[0m\u001b[1;33m\u001b[0m\u001b[1;33m\u001b[0m\u001b[0m\n\u001b[1;32m---> 15\u001b[1;33m         \u001b[0mt\u001b[0m \u001b[1;33m=\u001b[0m \u001b[1;33m(\u001b[0m\u001b[0md\u001b[0m\u001b[1;33m*\u001b[0m\u001b[0mt\u001b[0m\u001b[1;33m+\u001b[0m\u001b[0mord\u001b[0m\u001b[1;33m(\u001b[0m\u001b[0mA\u001b[0m\u001b[1;33m[\u001b[0m\u001b[0mi\u001b[0m\u001b[1;33m]\u001b[0m\u001b[1;33m)\u001b[0m\u001b[1;33m)\u001b[0m\u001b[1;33m%\u001b[0m\u001b[0mq\u001b[0m\u001b[1;33m\u001b[0m\u001b[1;33m\u001b[0m\u001b[0m\n\u001b[0m\u001b[0;32m     16\u001b[0m \u001b[1;33m\u001b[0m\u001b[0m\n\u001b[0;32m     17\u001b[0m     \u001b[1;32mfor\u001b[0m \u001b[0ms\u001b[0m \u001b[1;32min\u001b[0m \u001b[0mrange\u001b[0m\u001b[1;33m(\u001b[0m\u001b[0mn\u001b[0m\u001b[1;33m-\u001b[0m\u001b[0mm\u001b[0m\u001b[1;33m+\u001b[0m\u001b[1;36m1\u001b[0m\u001b[1;33m)\u001b[0m\u001b[1;33m:\u001b[0m\u001b[1;33m\u001b[0m\u001b[1;33m\u001b[0m\u001b[0m\n",
      "\u001b[1;31mIndexError\u001b[0m: string index out of range"
     ]
    }
   ],
   "source": [
    "mas1 = []\n",
    "mas2 = []\n",
    "lenghts = [800*k]\n",
    "print((meusure_time(RK,data, sub, lenghts)))\n",
    "\n",
    "\n",
    "    "
   ]
  },
  {
   "cell_type": "code",
   "execution_count": 123,
   "metadata": {},
   "outputs": [
    {
     "ename": "NameError",
     "evalue": "name 'mas_2' is not defined",
     "output_type": "error",
     "traceback": [
      "\u001b[1;31m---------------------------------------------------------------------------\u001b[0m",
      "\u001b[1;31mNameError\u001b[0m                                 Traceback (most recent call last)",
      "\u001b[1;32m<ipython-input-123-4be1216f4548>\u001b[0m in \u001b[0;36m<module>\u001b[1;34m\u001b[0m\n\u001b[0;32m      1\u001b[0m \u001b[0mlenghts\u001b[0m \u001b[1;33m=\u001b[0m \u001b[1;33m[\u001b[0m\u001b[1;36m3000\u001b[0m\u001b[1;33m]\u001b[0m\u001b[1;33m\u001b[0m\u001b[1;33m\u001b[0m\u001b[0m\n\u001b[0;32m      2\u001b[0m \u001b[1;32mfor\u001b[0m \u001b[0msub\u001b[0m \u001b[1;32min\u001b[0m \u001b[0msub_str\u001b[0m\u001b[1;33m[\u001b[0m\u001b[1;33m:\u001b[0m\u001b[1;33m:\u001b[0m\u001b[1;36m2\u001b[0m\u001b[1;33m]\u001b[0m\u001b[1;33m:\u001b[0m\u001b[1;33m\u001b[0m\u001b[1;33m\u001b[0m\u001b[0m\n\u001b[1;32m----> 3\u001b[1;33m     \u001b[0mmas_2\u001b[0m\u001b[1;33m.\u001b[0m\u001b[0mappend\u001b[0m\u001b[1;33m(\u001b[0m\u001b[0mmeusure_time\u001b[0m\u001b[1;33m(\u001b[0m\u001b[0mKMP\u001b[0m\u001b[1;33m,\u001b[0m \u001b[0mdata\u001b[0m\u001b[1;33m,\u001b[0m \u001b[0msub\u001b[0m\u001b[1;33m,\u001b[0m \u001b[0mlenghts\u001b[0m\u001b[1;33m)\u001b[0m\u001b[1;33m)\u001b[0m\u001b[1;33m\u001b[0m\u001b[1;33m\u001b[0m\u001b[0m\n\u001b[0m",
      "\u001b[1;31mNameError\u001b[0m: name 'mas_2' is not defined"
     ]
    }
   ],
   "source": []
  },
  {
   "cell_type": "code",
   "execution_count": 126,
   "metadata": {},
   "outputs": [
    {
     "data": {
      "text/plain": [
       "[<matplotlib.lines.Line2D at 0x29bce7abb70>]"
      ]
     },
     "execution_count": 126,
     "metadata": {},
     "output_type": "execute_result"
    },
    {
     "data": {
      "image/png": "[encoded data removed]",
      "text/plain": [
       "<Figure size 432x288 with 1 Axes>"
      ]
     },
     "metadata": {},
     "output_type": "display_data"
    }
   ],
   "source": [
    "plt.plot(mas2)\n"
   ]
  },
  {
   "cell_type": "code",
   "execution_count": null,
   "metadata": {},
   "outputs": [],
   "source": []
  }
 ],
 "metadata": {
  "kernelspec": {
   "display_name": "Python 3",
   "language": "python",
   "name": "python3"
  },
  "language_info": {
   "codemirror_mode": {
    "name": "ipython",
    "version": 3
   },
   "file_extension": ".py",
   "mimetype": "text/x-python",
   "name": "python",
   "nbconvert_exporter": "python",
   "pygments_lexer": "ipython3",
   "version": "3.6.8"
  }
 },
 "nbformat": 4,
 "nbformat_minor": 2
}
