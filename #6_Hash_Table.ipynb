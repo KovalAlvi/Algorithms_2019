{
 "cells": [
  {
   "cell_type": "markdown",
   "metadata": {},
   "source": [
    "### Programm #6. HashTable  \n",
    "\n"
   ]
  },
  {
   "cell_type": "markdown",
   "metadata": {},
   "source": [
    "Written by: Kovalev Alexander  \n",
    "Department:  MSU, Physics Faculty, Mathematical Modelling and Computer Sciencegr(MMCS), gr. 435    \n",
    "  \n",
    "  \n",
    "Task: Compare perfomance hash functions"
   ]
  },
  {
   "cell_type": "markdown",
   "metadata": {},
   "source": [
    "Implement two frequency dictionary on different hash functions\n",
    "- FNV64\n",
    "- microsoft with shift mfc\n",
    "\n",
    "Compare their performance, plotted follow graph:\n",
    "- x axis: load factor\n",
    "- y axis: number of collisions"
   ]
  },
  {
   "cell_type": "code",
   "execution_count": 1,
   "metadata": {},
   "outputs": [],
   "source": [
    "import re\n",
    "import string\n",
    "import matplotlib.pyplot as plt\n",
    "import numpy as np\n",
    "import random \n",
    "import seaborn as sns; sns.set()"
   ]
  },
  {
   "cell_type": "code",
   "execution_count": 2,
   "metadata": {},
   "outputs": [],
   "source": [
    "import seaborn as sns; sns.set()"
   ]
  },
  {
   "cell_type": "code",
   "execution_count": 3,
   "metadata": {},
   "outputs": [],
   "source": [
    "class Node():\n",
    "    \"\"\"key and value and forward\n",
    "    linked list\"\"\"\n",
    "    def __init__(self, key=None):\n",
    "        self.forward = None\n",
    "        self.key = key\n",
    "        self.value = 1\n",
    "        \n",
    "    \n",
    "    def add(self, other_node, collision = 0):\n",
    "        \"\"\"Output: number collisions for incerting new word\n",
    "        1 --\n",
    "        \"\"\"\n",
    "        if self.key and self.key != other_node.key:\n",
    "            collision +=1\n",
    "            if self.forward is None:\n",
    "                self.forward = other_node \n",
    "            else:\n",
    "                collision = self.forward.add(other_node, collision)\n",
    "        elif self.key == other_node.key:\n",
    "            self.value += 1\n",
    "        else:\n",
    "            self.key = other_node.key\n",
    "        return collision\n",
    "        \n",
    "    def lenght_chain(self):\n",
    "        \"\"\"if None is key than output is 0\"\"\"\n",
    "        if self.key is None:\n",
    "            return 0\n",
    "        lenght = 1\n",
    "        next_item = self.forward\n",
    "        while next_item:\n",
    "            lenght +=1\n",
    "            next_item = next_item.forward \n",
    "        return lenght\n",
    "\n",
    "    def show_list(self):\n",
    "        print(self.key, self.value)\n",
    "        if self.forward:\n",
    "            self.forward.show_list()\n",
    "        "
   ]
  },
  {
   "cell_type": "code",
   "execution_count": 4,
   "metadata": {},
   "outputs": [],
   "source": [
    "n1 = Node('j')\n",
    "n2 = Node('ki')\n",
    "n3 = Node('ki')\n",
    "n4 = Node('kir')\n",
    "n5 = Node('hbur')\n",
    "n6 = Node('msu')"
   ]
  },
  {
   "cell_type": "code",
   "execution_count": 5,
   "metadata": {},
   "outputs": [
    {
     "name": "stdout",
     "output_type": "stream",
     "text": [
      "j 1\n",
      "cad 1\n"
     ]
    },
    {
     "data": {
      "text/plain": [
       "1"
      ]
     },
     "execution_count": 5,
     "metadata": {},
     "output_type": "execute_result"
    }
   ],
   "source": [
    "col = n1.add(Node('cad'))\n",
    "n1.show_list()\n",
    "\n",
    "col"
   ]
  },
  {
   "cell_type": "code",
   "execution_count": 6,
   "metadata": {},
   "outputs": [],
   "source": [
    "#Test my own ideas"
   ]
  },
  {
   "cell_type": "code",
   "execution_count": 7,
   "metadata": {},
   "outputs": [],
   "source": [
    "def A():\n",
    "    print('1')\n",
    "def B(name):\n",
    "    print(name)"
   ]
  },
  {
   "cell_type": "code",
   "execution_count": null,
   "metadata": {},
   "outputs": [],
   "source": [
    "mas = [A, B]\n",
    "# I can make list of functions"
   ]
  },
  {
   "cell_type": "markdown",
   "metadata": {},
   "source": [
    "#### Реализация словаря на разных  хеш_функциях\n"
   ]
  },
  {
   "cell_type": "code",
   "execution_count": null,
   "metadata": {},
   "outputs": [],
   "source": [
    "import numpy as np\n"
   ]
  },
  {
   "cell_type": "code",
   "execution_count": null,
   "metadata": {},
   "outputs": [],
   "source": [
    "def microsoft_hash(string):\n",
    "    hash_num = 8039\n",
    "    for char in string[1:]: #here may be string[1:]\n",
    "        hash_num = (hash_num << 5) + hash_num + ord(char)\n",
    "    return hash_num \n",
    "\n",
    "def fnv_64(string):\n",
    "    #FNV_prime = 1099511628211   # for 64 bit FNV\n",
    "    FNV_prime = 8039\n",
    "    hash_num = 14695981039346656037 # offst for 64 bit FNV\n",
    "    for char in string[1:]:\n",
    "        hash_num = hash_num * FNV_prime\n",
    "        hash_num = hash_num ^ ord(char)    # xor ~ ^\n",
    "    return hash_num"
   ]
  },
  {
   "cell_type": "code",
   "execution_count": null,
   "metadata": {},
   "outputs": [],
   "source": [
    "mas_hash_func = [microsoft_hash, fnv_64]\n",
    "\n",
    "# def my_hash(string):\n",
    "#     hash_num = 8039\n",
    "#     for char in string[1:]:\n",
    "#         hash_num += ord(char)    # xor ~ ^\n",
    "#     return hash_num"
   ]
  },
  {
   "cell_type": "code",
   "execution_count": null,
   "metadata": {},
   "outputs": [],
   "source": [
    "class HashTable:\n",
    "    def __init__(self, size, hash_name):\n",
    "        self.hash_name = hash_name\n",
    "        self.size = size\n",
    "        self.array = [Node() for i in range(self.size)]\n",
    "        self.lenghts_chain = [0]*self.size\n",
    "        #self.num_collisions = 0\n",
    "        self.unique_words = 0\n",
    "        self.num_empty_item = size\n",
    "\n",
    "    def put(self,key):\n",
    "        hashvalue = self.hashfunction(key,len(self.array))\n",
    "        tmp_node = Node(key)\n",
    "        \n",
    "        len_before = self.array[hashvalue].lenght_chain()\n",
    "        num_collisions = self.array[hashvalue].add(tmp_node)\n",
    "        self.lenghts_chain[hashvalue] = self.array[hashvalue].lenght_chain() \n",
    "        \n",
    "#         if len_before != 0:\n",
    "#             self.num_collisions += self.lenghts_chain[hashvalue] - len_before\n",
    "#         else:\n",
    "#             self.num_empty_item -= 1 \n",
    "        \n",
    "        self.unique_words += self.lenghts_chain[hashvalue] - len_before\n",
    "        \n",
    "        #we save lenghts of chains. aka number of collisions\n",
    "        return num_collisions\n",
    "        \n",
    "        \n",
    "    def set_unique_word(self, num):\n",
    "        self.unique_words = num\n",
    "    \n",
    "    def get_num_empty_slot(self):\n",
    "        return self.num_empty_item\n",
    "    def get_new_collisions(self):\n",
    "        return self.num_collisions\n",
    "    def get_new_unique_words(self):\n",
    "        return self.unique_words\n",
    "    \n",
    "    \n",
    "    def get_collisions(self):\n",
    "        num_collisions = 0\n",
    "        \n",
    "        for lenght in self.lenghts_chain:\n",
    "            if lenght == 0:\n",
    "                continue\n",
    "            num_tmp = lenght-1\n",
    "            num_collisions += num_tmp\n",
    "        return num_collisions\n",
    "    \n",
    "    def get_load_factor(self):\n",
    "        size = 0\n",
    "        for lenght in self.lenghts_chain:\n",
    "            size += lenght\n",
    "        return size/self.size\n",
    "    \n",
    "    def get_loading_hash(self):\n",
    "        size = 0\n",
    "        for i in range(self.size):\n",
    "            if self.lenghts_chain[i] == 0:\n",
    "                size += 1\n",
    "        return size/self.size\n",
    "    \n",
    "    def hashfunction(self, key, size):\n",
    "        if self.hash_name == \"fnv64\":\n",
    "            return fnv_64(key) &  (self.size-1)\n",
    "        \n",
    "        elif self.hash_name == 'microsoft':\n",
    "            return (microsoft_hash(key)>>5) &  (self.size-1)\n",
    "        \n",
    "        elif self.hash_name == 'mode':\n",
    "            return key%size\n",
    "        elif self.hash_name =='myhash':\n",
    "            return my_hash(key) &  ((self.size-1)<<5)\n",
    "        else:\n",
    "            print('I do not know this hash')\n",
    "\n",
    "\n",
    "\n",
    "\n"
   ]
  },
  {
   "cell_type": "code",
   "execution_count": null,
   "metadata": {},
   "outputs": [
    {
     "name": "stdout",
     "output_type": "stream",
     "text": [
      "Количество слов 59822,\n",
      "Количество символов 429317 \n",
      "Количество уникальных слов 8037\n"
     ]
    }
   ],
   "source": [
    "kant_file = open(\"Kritika.txt\", \"r\")\n",
    "data = kant_file.read() # len = 25507\n",
    "kant_file.close()\n",
    "\n",
    "def clean_txt(input_str):\n",
    "    input_to_lower = input_str.lower() \n",
    "    input_no_digit = re.sub(r'\\d+', '', input_to_lower) # without digits\n",
    "    clean_input = input_no_digit.translate(str.maketrans(\"\",\"\", string.punctuation)) # clean punctuations\n",
    "    return clean_input.split()\n",
    "\n",
    "clean_data = clean_txt(data)\n",
    "print(\"Количество слов {},\\nКоличество символов {} \\nКоличество уникальных слов {}\".format(len(clean_data),len(data), len(set(clean_data))))"
   ]
  },
  {
   "cell_type": "code",
   "execution_count": null,
   "metadata": {},
   "outputs": [],
   "source": [
    "size_text = len(set(clean_data)) # 8037\n",
    "PRIME_unique = 8039\n"
   ]
  },
  {
   "cell_type": "markdown",
   "metadata": {},
   "source": [
    "#### FNV64 hash"
   ]
  },
  {
   "cell_type": "code",
   "execution_count": null,
   "metadata": {},
   "outputs": [],
   "source": [
    "htable_fnv = HashTable(PRIME_unique, 'fnv64')\n",
    "htable_microsoft = HashTable(PRIME_unique, 'microsoft')\n",
    "htable_myhash = HashTable(PRIME_unique, 'myhash')"
   ]
  },
  {
   "cell_type": "code",
   "execution_count": null,
   "metadata": {},
   "outputs": [],
   "source": [
    "def evaluation_hash_table(htable):\n",
    "    htable.set_unique_word(0)\n",
    "    collisions = [0] * len(clean_data)\n",
    "    load_factors = [0] * len(clean_data)\n",
    "    #loading_hash = [0] * len(clean_data)\n",
    "    i = 0\n",
    "    for word in clean_data:\n",
    "        collisions[i] = htable.put(word)\n",
    "        #collisions[i] = htable.get_new_collisions()\n",
    "        load_factors[i] = htable.get_new_unique_words()/PRIME_unique\n",
    "        #loading_hash[i] = (PRIME_unique - htable.get_num_empty_slot())/PRIME_unique\n",
    "        i += 1\n",
    "    return collisions, load_factors\n"
   ]
  },
  {
   "cell_type": "code",
   "execution_count": null,
   "metadata": {},
   "outputs": [],
   "source": [
    "collisions_fnv, load_factors_fnv = evaluation_hash_table(htable_fnv)\n",
    "print('FNV completed')\n",
    "collisions_microsoft, load_factors_microsoft = evaluation_hash_table(htable_microsoft)\n",
    "print('Microsoft completed')\n",
    "# collisions_myhash, load_factors_myhash = evaluation_hash_table(htable_myhash)\n",
    "# print('Myhash completed')"
   ]
  },
  {
   "cell_type": "code",
   "execution_count": null,
   "metadata": {},
   "outputs": [],
   "source": [
    "def exp_move_average(data, alpha=0.5):\n",
    "    N = len(data)\n",
    "    mas_out = np.zeros(N)\n",
    "    for  i in range(1,N):\n",
    "        mas_out[i] = alpha*data[i] + (1-alpha)*mas_out[i-1]                     \n",
    "    return mas_out\n"
   ]
  },
  {
   "cell_type": "code",
   "execution_count": null,
   "metadata": {},
   "outputs": [],
   "source": [
    "# Moving average\n",
    "N = 1\n",
    "collisions_fnv_mean = np.convolve(collisions_fnv, np.ones((N,))/N, mode='same')\n",
    "load_factors_fnv_mean = np.convolve(load_factors_fnv, np.ones((N,))/N, mode='valid')\n",
    "\n",
    "collisions_microsoft_mean = np.convolve(collisions_microsoft, np.ones((N,))/N, mode='same')\n",
    "load_factors_microsoft_mean = np.convolve(load_factors_microsoft, np.ones((N,))/N, mode='valid')"
   ]
  },
  {
   "cell_type": "code",
   "execution_count": null,
   "metadata": {},
   "outputs": [],
   "source": [
    "# Moving exponential average\n",
    "alpha = 0.0002\n",
    "collisions_fnv_emwa = exp_move_average(collisions_fnv,alpha)\n",
    "collisions_microsoft_emwa = exp_move_average(collisions_microsoft, alpha)\n"
   ]
  },
  {
   "cell_type": "code",
   "execution_count": null,
   "metadata": {},
   "outputs": [],
   "source": [
    "\n",
    "fig, ax = plt.subplots(2,1, figsize = (12,16))\n",
    "\n",
    "fig.suptitle(\"Compare FNV64 and microsoft hash on Kant\")\n",
    "for axi in ax.flat:\n",
    "    axi.set(xlabel = \"Load factor\", ylabel = (\"Number of collisions\"))\n",
    "\n",
    "ax[0].plot(load_factors_fnv, collisions_fnv_mean, label = 'FNV 64')\n",
    "ax[0].plot(load_factors_microsoft, collisions_microsoft_mean, label = 'microsoft')\n",
    "ax[0].set_title('Compare perfomance using mving average with N = ' + str(N))\n",
    "\n",
    "\n",
    "ax[1].plot(load_factors_fnv, collisions_fnv_emwa, label = 'FNV 64')\n",
    "ax[1].plot(load_factors_microsoft, collisions_microsoft_emwa, label = 'microsoft')\n",
    "ax[1].set_title('Compare perfomance using exponential moving average with '+ r'$\\alpha$'+' = ' +str(alpha))\n",
    "\n",
    "plt.legend()"
   ]
  },
  {
   "cell_type": "markdown",
   "metadata": {},
   "source": [
    "Look on lenght of chain in hash_table"
   ]
  },
  {
   "cell_type": "code",
   "execution_count": null,
   "metadata": {},
   "outputs": [],
   "source": [
    "def take_lenghts_chains(htable):\n",
    "    mas = []\n",
    "    for i in htable.lenghts_chain:\n",
    "        mas.append(i)\n",
    "    return mas\n"
   ]
  },
  {
   "cell_type": "code",
   "execution_count": null,
   "metadata": {},
   "outputs": [],
   "source": [
    "chains_fnv = take_lenghts_chains(htable_fnv)\n",
    "chains_microsoft = take_lenghts_chains(htable_microsoft)\n",
    "chains_microsoft\n",
    "#chains_myhash = take_lenghts_chains(htable_myhash)"
   ]
  },
  {
   "cell_type": "code",
   "execution_count": null,
   "metadata": {},
   "outputs": [],
   "source": [
    "plt.figure(figsize = (10,6))\n",
    "plt.title('lenght of chain in hash_table')\n",
    "plt.hist(chains_microsoft,range =(0,200),bins = 40, alpha=0.5, label = 'microsoft')\n",
    "plt.hist(chains_fnv,range =(0,200),bins = 40, alpha=0.5, label = 'fnv')\n",
    "\n",
    "\n",
    "plt.legend()\n",
    "plt.ylim(0,150)"
   ]
  },
  {
   "cell_type": "code",
   "execution_count": null,
   "metadata": {},
   "outputs": [],
   "source": []
  }
 ],
 "metadata": {
  "kernelspec": {
   "display_name": "Python 3",
   "language": "python",
   "name": "python3"
  },
  "language_info": {
   "codemirror_mode": {
    "name": "ipython",
    "version": 3
   },
   "file_extension": ".py",
   "mimetype": "text/x-python",
   "name": "python",
   "nbconvert_exporter": "python",
   "pygments_lexer": "ipython3",
   "version": "3.6.8"
  }
 },
 "nbformat": 4,
 "nbformat_minor": 2
}
