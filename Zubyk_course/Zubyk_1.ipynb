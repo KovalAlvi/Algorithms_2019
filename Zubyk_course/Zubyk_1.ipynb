{
 "cells": [
  {
   "cell_type": "code",
   "execution_count": 204,
   "metadata": {},
   "outputs": [],
   "source": [
    "import numpy as np\n",
    "import matplotlib.pyplot as plt\n"
   ]
  },
  {
   "cell_type": "markdown",
   "metadata": {},
   "source": [
    "Идея дествительно сработала. Так что можно расширить мою идею и продолжить работать уже над ней.   \n",
    "Осталось только сделать соответсвующие функции.\n"
   ]
  },
  {
   "cell_type": "code",
   "execution_count": 3,
   "metadata": {},
   "outputs": [
    {
     "data": {
      "text/plain": [
       "array([[0., 1., 0., 0.],\n",
       "       [0., 0., 2., 0.],\n",
       "       [0., 0., 0., 3.],\n",
       "       [0., 0., 0., 0.]])"
      ]
     },
     "execution_count": 3,
     "metadata": {},
     "output_type": "execute_result"
    }
   ],
   "source": [
    "def build_diff(N):\n",
    "    \"\"\"input: dimensial\n",
    "    output: Differential operator for normal polynom\"\"\"\n",
    "    mas = np.zeros((N, N))\n",
    "    for i in range(N-1):\n",
    "        mas[i, i+1] = i+1\n",
    "    return mas\n",
    "build_diff(4)"
   ]
  },
  {
   "cell_type": "code",
   "execution_count": 18,
   "metadata": {},
   "outputs": [
    {
     "name": "stdout",
     "output_type": "stream",
     "text": [
      "From legandre to normal poly\n",
      " [[ 1.     0.    -0.5    0.     0.375]\n",
      " [ 0.     1.     0.    -1.5    0.   ]\n",
      " [ 0.     0.     1.5    0.    -3.75 ]\n",
      " [ 0.     0.     0.     2.5    0.   ]\n",
      " [ 0.     0.     0.     0.     4.375]]\n",
      "From cheb_1 to normal poly\n",
      " [[ 1.  0. -1.  0.  1.]\n",
      " [ 0.  1.  0. -3.  0.]\n",
      " [ 0.  0.  2.  0. -8.]\n",
      " [ 0.  0.  0.  4.  0.]\n",
      " [ 0.  0.  0.  0.  8.]]\n",
      "From cheb_2 to normal poly\n",
      " [[  1.   0.  -1.   0.   1.]\n",
      " [  0.   2.   0.  -4.   0.]\n",
      " [  0.   0.   4.   0. -12.]\n",
      " [  0.   0.   0.   8.   0.]\n",
      " [  0.   0.   0.   0.  16.]]\n"
     ]
    }
   ],
   "source": [
    "def array_shift(array):\n",
    "    return np.insert(array, 0, 0)[:-1] # add 0 in the beginning\n",
    "\n",
    "def build_change_poly(N, poly = 'legandre'):\n",
    "    mas = np.zeros((N, N))\n",
    "    mas[0,0] = 1\n",
    "    mas[1,1] = 1\n",
    "    if poly == 'legandre':\n",
    "        for n in range(2, N):\n",
    "            mas[:, n] = (2*n - 1)/n * array_shift(mas[:, n-1]) - (n-1)/n*mas[:, n-2]\n",
    "        return mas\n",
    "    elif poly == 'cheb_1':\n",
    "        for n in range(2, N):\n",
    "            mas[:, n] = 2* array_shift(mas[:, n-1]) - mas[:, n-2]\n",
    "        return mas\n",
    "    elif poly == 'cheb_2':\n",
    "        mas[1,1] = 2\n",
    "        for n in range(2, N):\n",
    "            mas[:, n] = 2*array_shift(mas[:, n-1]) - mas[:, n-2]\n",
    "        return mas\n",
    "    else:\n",
    "        print('Try another polynomials')\n",
    "        \n",
    "print(\"From legandre to normal poly\\n\", build_change_poly(5, 'legandre'))\n",
    "print(\"From cheb_1 to normal poly\\n\", build_change_poly(5, 'cheb_1'))\n",
    "print(\"From cheb_2 to normal poly\\n\", build_change_poly(5, 'cheb_2'))"
   ]
  },
  {
   "cell_type": "code",
   "execution_count": 22,
   "metadata": {},
   "outputs": [],
   "source": [
    "def build_diff_operator(N, poly = 'legandre'):\n",
    "    A = build_change_poly(N, poly)\n",
    "    Diff = build_diff(N)\n",
    "    A_inverse = np.linalg.inv(A)\n",
    "       \n",
    "    mas_tmp = np.dot(Diff, A)\n",
    "    matrix_result = np.dot(A_inverse, mas_tmp)\n",
    "    return matrix_result\n",
    " \n"
   ]
  },
  {
   "cell_type": "markdown",
   "metadata": {},
   "source": [
    "Построил оператор частной производной по x для базиса( N = 3):  \n",
    "$1$  \n",
    "$x$  \n",
    "$x^2$  \n",
    "$1$   \n",
    "$y$    \n",
    "$y^2$  \n",
    "$xy$   \n",
    "$xy^2$  \n",
    "$x^2y$     \n",
    "$x^2y^2$\n"
   ]
  },
  {
   "cell_type": "markdown",
   "metadata": {},
   "source": [
    "### dX"
   ]
  },
  {
   "cell_type": "code",
   "execution_count": 28,
   "metadata": {},
   "outputs": [
    {
     "name": "stdout",
     "output_type": "stream",
     "text": [
      "[[0. 1. 0.]\n",
      " [0. 0. 2.]\n",
      " [0. 0. 0.]]\n",
      "[[0. 1. 0. 0. 0. 0. 0. 0. 0. 0.]\n",
      " [0. 0. 2. 0. 0. 0. 0. 0. 0. 0.]\n",
      " [0. 0. 0. 0. 0. 0. 0. 0. 0. 0.]\n",
      " [0. 0. 0. 0. 0. 0. 0. 0. 0. 0.]\n",
      " [0. 0. 0. 0. 0. 0. 1. 0. 0. 0.]\n",
      " [0. 0. 0. 0. 0. 0. 0. 1. 0. 0.]\n",
      " [0. 0. 0. 0. 0. 0. 0. 0. 2. 0.]\n",
      " [0. 0. 0. 0. 0. 0. 0. 0. 0. 2.]\n",
      " [0. 0. 0. 0. 0. 0. 0. 0. 0. 0.]\n",
      " [0. 0. 0. 0. 0. 0. 0. 0. 0. 0.]]\n"
     ]
    }
   ],
   "source": [
    "N = 3\n",
    "mas = build_diff(N)\n",
    "print(mas)\n",
    "dim = 2*N + int((N-1)**2)\n",
    "big_mas_dx = np.zeros((dim, dim))\n",
    "big_mas_dx[:N, :N] = mas\n",
    "\n",
    "k = 0\n",
    "for num in range(1, N):\n",
    "    for j in range(1, N):\n",
    "        big_mas_dx[N+1+k, 2*N+k] = num\n",
    "        k+=1\n",
    "print(big_mas_dx)"
   ]
  },
  {
   "cell_type": "markdown",
   "metadata": {},
   "source": [
    "\n",
    "### dY"
   ]
  },
  {
   "cell_type": "code",
   "execution_count": 45,
   "metadata": {},
   "outputs": [
    {
     "name": "stdout",
     "output_type": "stream",
     "text": [
      "[[0. 1. 0.]\n",
      " [0. 0. 2.]\n",
      " [0. 0. 0.]]\n",
      "[[0. 0. 0. 0. 0. 0. 0. 0. 0. 0.]\n",
      " [0. 0. 0. 0. 0. 0. 1. 0. 0. 0.]\n",
      " [0. 0. 0. 0. 0. 0. 0. 0. 1. 0.]\n",
      " [0. 0. 0. 0. 1. 0. 0. 0. 0. 0.]\n",
      " [0. 0. 0. 0. 0. 2. 0. 0. 0. 0.]\n",
      " [0. 0. 0. 0. 0. 0. 0. 0. 0. 0.]\n",
      " [0. 0. 0. 0. 0. 0. 0. 2. 0. 0.]\n",
      " [0. 0. 0. 0. 0. 0. 0. 0. 0. 0.]\n",
      " [0. 0. 0. 0. 0. 0. 0. 0. 0. 2.]\n",
      " [0. 0. 0. 0. 0. 0. 0. 0. 0. 0.]]\n"
     ]
    }
   ],
   "source": [
    "N = 3\n",
    "mas = build_diff(N)\n",
    "print(mas)\n",
    "dim = 2*N + int((N-1)**2)\n",
    "big_mas_dy = np.zeros((dim, dim))\n",
    "big_mas_dy[N:2*N, N:2*N] = mas\n",
    "\n",
    "\n",
    "k = 0\n",
    "for j in range(0, N-1):\n",
    "    big_mas_dy[j+1, 2*N+k] = 1\n",
    "    k+=1\n",
    "    for num in range(2, N):\n",
    "        big_mas_dy[2*N+k-1, 2*N+k] = num\n",
    "        k+=1\n",
    "\n",
    "print(big_mas_dy)"
   ]
  },
  {
   "cell_type": "code",
   "execution_count": null,
   "metadata": {},
   "outputs": [],
   "source": [
    "operator_dx_dy = np.vstack((big_mas_dx, big_mas_dy))\n",
    "operator_dx_dy"
   ]
  },
  {
   "cell_type": "markdown",
   "metadata": {},
   "source": [
    "Объединять теперь нужно.   \n",
    "Это совсем несложно\n"
   ]
  },
  {
   "cell_type": "code",
   "execution_count": 223,
   "metadata": {},
   "outputs": [],
   "source": [
    "def diff_2_var(N):\n",
    "    mas = build_diff(N)\n",
    "    dim = 2*N + int((N-1)**2)\n",
    "    \n",
    "    #d/dx\n",
    "    big_mas_dx = np.zeros((dim, dim))\n",
    "    big_mas_dx[:N, :N] = mas\n",
    "    k = 0\n",
    "    for num in range(1, N):\n",
    "        for j in range(1, N):\n",
    "            big_mas_dx[N+1+k, 2*N+k] = num\n",
    "            k+=1\n",
    "    \n",
    "    #d/dy\n",
    "    big_mas_dy = np.zeros((dim, dim))\n",
    "    big_mas_dy[N:2*N, N:2*N] = mas\n",
    "    k = 0\n",
    "    for j in range(0, N-1):\n",
    "        big_mas_dy[j+1, 2*N+k] = 1\n",
    "        k+=1\n",
    "        for num in range(2, N):\n",
    "            big_mas_dy[2*N+k-1, 2*N+k] = num\n",
    "            k+=1\n",
    "\n",
    "    operator_dx_dy = np.vstack((big_mas_dx, big_mas_dy))\n",
    "    return operator_dx_dy\n",
    "    \n",
    "    \n",
    "\n"
   ]
  },
  {
   "cell_type": "markdown",
   "metadata": {},
   "source": [
    "Теперб нужно думать над тем, как перевести комбинированный Лежандр в наш базис, в котором мы работаем.\n",
    "Надо придумать, как масштабировать это место. Очень слабенько пока что\n"
   ]
  },
  {
   "cell_type": "code",
   "execution_count": 152,
   "metadata": {},
   "outputs": [],
   "source": [
    "def multiple_coef(p1, p2):\n",
    "    N = p1.shape[0]\n",
    "    dim = 2*N + int((N-1)**2)\n",
    "    mas = np.zeros(dim)\n",
    "    \n",
    "    for i in range(N):\n",
    "        mas[i] =  p1[i]*p2[0]\n",
    "    for r in range(1, N):\n",
    "        for i in range(N):\n",
    "            mas[N+r+i*(N-1)] = p1[i] * p2[r]\n",
    "    return mas"
   ]
  },
  {
   "cell_type": "code",
   "execution_count": 219,
   "metadata": {},
   "outputs": [],
   "source": [
    "def change_poly_2_var(N, poly = 'legandre'):\n",
    "    dim = 2*N + int((N-1)**2)\n",
    "    change_mas = np.zeros((dim, dim))\n",
    "    \n",
    "    mas = build_change_poly(N, poly = poly)\n",
    "    change_mas[:N, :N] = mas                  \n",
    "    change_mas[N:2*N, N:2*N] = mas\n",
    "    \n",
    "    k = 0 \n",
    "    for x_col in range(1, N):\n",
    "        for y_col in range(1, N):\n",
    "            p1 = change_mas[:N, x_col]\n",
    "            p2 = change_mas[N:2*N, N+y_col]\n",
    "\n",
    "            change_mas[:, 2*N+k] = multiple_coef(p1, p2)\n",
    "            k += 1\n",
    "            \n",
    "    return change_mas\n",
    "\n",
    "\n",
    "\n"
   ]
  },
  {
   "cell_type": "code",
   "execution_count": null,
   "metadata": {},
   "outputs": [],
   "source": [
    "def inverse_change_poly(change_mas):\n",
    "    r, c = change_mas.shape\n",
    "    change_mas_inv = np.linalg.inv(change_mas)\n",
    "    combine_inverse = np.zeros((2*r,2*c ))\n",
    "    combine_inverse[:r, :c] = change_mas_inv\n",
    "    combine_inverse[r:, c:] = change_mas_inv\n",
    "    return combine_inverse"
   ]
  },
  {
   "cell_type": "code",
   "execution_count": 175,
   "metadata": {},
   "outputs": [],
   "source": [
    "\n"
   ]
  },
  {
   "cell_type": "code",
   "execution_count": 176,
   "metadata": {},
   "outputs": [
    {
     "data": {
      "text/plain": [
       "10"
      ]
     },
     "execution_count": 176,
     "metadata": {},
     "output_type": "execute_result"
    }
   ],
   "source": []
  },
  {
   "cell_type": "code",
   "execution_count": 220,
   "metadata": {},
   "outputs": [],
   "source": [
    "def diff_operator_2_var(N, poly = 'legandre'):\n",
    "    \"\"\"Combine all function\n",
    "    Build operator for 'poly' basis.\n",
    "    You can choose: legandre, cheb_1, cheb_2\"\"\"\n",
    "    A = change_poly_2_var(N, poly)\n",
    "    diff = diff_2_var(N)\n",
    "    A_inverse = inverse_change_poly(A)\n",
    "    \n",
    "    A_tmp = np.dot(diff, A)\n",
    "    matrix_result = np.dot(A_inverse, A_tmp)\n",
    "    return matrix_result"
   ]
  },
  {
   "cell_type": "code",
   "execution_count": 232,
   "metadata": {},
   "outputs": [
    {
     "data": {
      "text/plain": [
       "<matplotlib.image.AxesImage at 0x19d1e420320>"
      ]
     },
     "execution_count": 232,
     "metadata": {},
     "output_type": "execute_result"
    },
    {
     "data": {
      "image/png": "[encoded data removed]",
      "text/plain": [
       "<Figure size 432x288 with 1 Axes>"
      ]
     },
     "metadata": {
      "needs_background": "light"
     },
     "output_type": "display_data"
    }
   ],
   "source": [
    "plt.imshow(diff_operator_2_var(3))"
   ]
  },
  {
   "cell_type": "markdown",
   "metadata": {},
   "source": [
    "### Тестирование"
   ]
  },
  {
   "cell_type": "code",
   "execution_count": 262,
   "metadata": {},
   "outputs": [
    {
     "name": "stdout",
     "output_type": "stream",
     "text": [
      "Test 1 passed \n",
      "Test 2 passed \n"
     ]
    }
   ],
   "source": [
    "N = 3\n",
    "dim = 2*N + int((N-1)**2)\n",
    "def test_1(poly = 'legandre'):\n",
    "    zero_mas = np.zeros(dim)\n",
    "    coef = np.zeros(dim)\n",
    "    coef[0] = 10\n",
    "    diff_coef = np.dot(diff_operator_2_var(N), coef)\n",
    "    print('Test 1 passed ' if np.array_equal(diff_coef[:dim],zero_mas ) else \"Not passed\")\n",
    "    \n",
    "    coef = np.zeros(dim)\n",
    "    # p2(x) + p2(y) where p2(x)= 2*x^2 - 1\n",
    "    coef[2] = 1; coef[5] = 1\n",
    "    \n",
    "    diff_coef = np.dot(diff_operator_2_var(N, 'cheb_1'), coef)\n",
    "    test_mas = np.zeros(2*dim)\n",
    "    test_mas[1] = 4 ; test_mas[dim + N + 1] = 4\n",
    "    \n",
    "    print('Test 2 passed ' if np.array_equal(diff_coef,test_mas ) else \"Not passed\")\n",
    "    test_1()"
   ]
  },
  {
   "cell_type": "code",
   "execution_count": 258,
   "metadata": {},
   "outputs": [
    {
     "data": {
      "text/plain": [
       "array([0., 4., 0., 0., 0., 0., 0., 0., 0., 0., 0., 0., 0., 0., 4., 0., 0.,\n",
       "       0., 0., 0.])"
      ]
     },
     "execution_count": 258,
     "metadata": {},
     "output_type": "execute_result"
    }
   ],
   "source": [
    "coef = np.zeros(dim)\n",
    "    # p2(x) + p2(y) where p2(x)= 2*x^2 - 1\n",
    "coef[2] = 1\n",
    "coef[5] = 1\n",
    "coef\n",
    "np.dot(diff_operator_2_var(N, 'cheb_1'), coef)"
   ]
  },
  {
   "cell_type": "markdown",
   "metadata": {},
   "source": [
    "#### Графики"
   ]
  },
  {
   "cell_type": "code",
   "execution_count": 272,
   "metadata": {},
   "outputs": [
    {
     "data": {
      "text/plain": [
       "[<matplotlib.lines.Line2D at 0x19d1ebcf4e0>,\n",
       " <matplotlib.lines.Line2D at 0x19d1ebcf630>,\n",
       " <matplotlib.lines.Line2D at 0x19d1ebcf780>,\n",
       " <matplotlib.lines.Line2D at 0x19d1ebcf8d0>,\n",
       " <matplotlib.lines.Line2D at 0x19d1ebcfa20>,\n",
       " <matplotlib.lines.Line2D at 0x19d1ebcfb70>,\n",
       " <matplotlib.lines.Line2D at 0x19d1ebcfcc0>,\n",
       " <matplotlib.lines.Line2D at 0x19d1ebcfe10>,\n",
       " <matplotlib.lines.Line2D at 0x19d1ebcff60>,\n",
       " <matplotlib.lines.Line2D at 0x19d1ebd40f0>]"
      ]
     },
     "execution_count": 272,
     "metadata": {},
     "output_type": "execute_result"
    },
    {
     "data": {
      "image/png": "[encoded data removed]",
      "text/plain": [
       "<Figure size 576x432 with 1 Axes>"
      ]
     },
     "metadata": {
      "needs_background": "light"
     },
     "output_type": "display_data"
    }
   ],
   "source": [
    "from scipy.special import legendre\n",
    "from scipy.special import chebyt # первого рода\n",
    "from scipy.special import chebyu # второго рода\n",
    "\n",
    "\n",
    "N = 10\n",
    "lenght = 100\n",
    "Pn = [0]*N\n",
    "for i in range(N):\n",
    "    Pn[i] = legendre(i)\n",
    "x = np.linspace(0,1, lenght)\n",
    "plt.figure(figsize = (8,6))\n",
    "\n",
    "def values_polynomial(N, lenght, poly = 'legandre'):\n",
    "    if poly =='legandre':\n",
    "        matrix_basis = np.zeros((N, lenght))\n",
    "        x = np.linspace(0,1, lenght)\n",
    "        for i in range(N):\n",
    "            Pn[i] = legendre(i)\n",
    "            matrix_basis[i] = Pn[i](x)\n",
    "    elif poly =='cheb_1':\n",
    "        matrix_basis = np.zeros((N, lenght))\n",
    "        x = np.linspace(0,1, lenght)\n",
    "        for i in range(N):\n",
    "            Pn[i] = chebyt(i)\n",
    "            matrix_basis[i] = Pn[i](x)\n",
    "    elif poly =='cheb_2':\n",
    "        matrix_basis = np.zeros((N, lenght))\n",
    "        x = np.linspace(0,1, lenght)\n",
    "        for i in range(N):\n",
    "            Pn[i] = chebyu(i)\n",
    "            matrix_basis[i] = Pn[i](x)\n",
    "    else:\n",
    "        return 'Error'\n",
    "    return matrix_basis\n",
    "\n",
    "\n",
    "mas = values_polynomial(N, lenght, poly = 'legandre' )\n"
   ]
  }
 ],
 "metadata": {
  "kernelspec": {
   "display_name": "Python 3",
   "language": "python",
   "name": "python3"
  },
  "language_info": {
   "codemirror_mode": {
    "name": "ipython",
    "version": 3
   },
   "file_extension": ".py",
   "mimetype": "text/x-python",
   "name": "python",
   "nbconvert_exporter": "python",
   "pygments_lexer": "ipython3",
   "version": "3.6.8"
  }
 },
 "nbformat": 4,
 "nbformat_minor": 2
}
