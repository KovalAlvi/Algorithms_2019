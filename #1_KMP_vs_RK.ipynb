{
 "cells": [
  {
   "cell_type": "code",
   "execution_count": 1,
   "metadata": {},
   "outputs": [],
   "source": [
    "import numpy as np\n",
    "import matplotlib.pyplot as plt\n",
    "import time\n",
    "from tqdm import tqdm\n",
    "import seaborn as sns; sns.set()"
   ]
  },
  {
   "cell_type": "code",
   "execution_count": 2,
   "metadata": {},
   "outputs": [],
   "source": [
    "sns.set()"
   ]
  },
  {
   "cell_type": "markdown",
   "metadata": {},
   "source": [
    "###  Implementation Knutt Morris Pratt (KMP)"
   ]
  },
  {
   "cell_type": "markdown",
   "metadata": {},
   "source": [
    "Written by: Kovalev Alexander  \n",
    "Department:  MSU, Physics Faculty, Mathematical Modelling and Computer Sciencegr(MMCS), gr. 435    \n",
    "  \n",
    "  \n",
    "Task: Compare perfomance hash functions"
   ]
  },
  {
   "cell_type": "markdown",
   "metadata": {},
   "source": [
    "__Goal__: Find pattern in text.   \n",
    "__Input__: text, pattern  \n",
    "__Output__: massive with place pattern in text \n",
    "\n",
    "text(string) with lenght = N  \n",
    "pattern(substring) with lenght = M  \n",
    "M< N\n",
    "\n",
    "\n",
    "__Implement two algorithm to find substrin in string__\n",
    "- Knutt Morris Pratt\n",
    "- Rabin Karp\n",
    "\n",
    "__Compare KMP vs RK for chinese text__\n",
    "1. Take meusure time functions\n",
    "2.  Upload data from file\n",
    "3. Plot graphs. \n",
    "    - How time depend from lenght text with pattern fixed\n",
    "    - How time depends from lenght pattern with text size fixed\n"
   ]
  },
  {
   "cell_type": "code",
   "execution_count": 3,
   "metadata": {},
   "outputs": [],
   "source": [
    "def prefix_table(string):\n",
    "    \"\"\"\n",
    "    Calculate value of prefix function for each element in text\n",
    "    len(string) = len(output)\n",
    "    Input: string - list\n",
    "    Output : list\n",
    "    \"\"\"\n",
    "    prefix_count = 0\n",
    "    mas = [0]*len(string)\n",
    "    for i in range(1, len(string)):\n",
    "        if string[i] == string[prefix_count]:\n",
    "            prefix_count +=1\n",
    "        else:\n",
    "            prefix_count = 0\n",
    "        mas[i] = prefix_count\n",
    "    return mas\n"
   ]
  },
  {
   "cell_type": "code",
   "execution_count": 4,
   "metadata": {},
   "outputs": [],
   "source": [
    "def KMP(text, pattern ):\n",
    "    \"\"\"\n",
    "    Searches for a pattern in the text and outputs an array\n",
    "    \n",
    "    Input: \n",
    "    text - text\n",
    "    pattern - pattern(substring). Wanna find it in text\n",
    "     \n",
    "    Output: \n",
    "    an array of locations in the text certain pattern \n",
    "    \"\"\"\n",
    "    shifts = prefix_table(pattern)\n",
    "    initial_point = []\n",
    "    m = 0; n = 0\n",
    "    while n < len(text):\n",
    "        if text[n] == pattern[m]:\n",
    "            m += 1; n += 1\n",
    "        else:\n",
    "            m = shifts[m-1]   #начинаем не с первого считать, а со смещением, тот же элемент\n",
    "        if m == len(pattern):\n",
    "            initial_point.append(n-m)\n",
    "            m = shifts[m-1]\n",
    "        elif m == 0:         #на первом ошибка\n",
    "            n += 1\n",
    "    return initial_point\n",
    "\n",
    "\n"
   ]
  },
  {
   "cell_type": "code",
   "execution_count": 5,
   "metadata": {},
   "outputs": [
    {
     "data": {
      "text/plain": [
       "[7, 10, 23]"
      ]
     },
     "execution_count": 5,
     "metadata": {},
     "output_type": "execute_result"
    }
   ],
   "source": [
    "# Пример кода\n",
    "A = \"asdddadsfasfsdasdfasdaasfgafsgsdaqs\"\n",
    "A = A\n",
    "sub = \"sf\"\n",
    "index_KMP = KMP(A, sub)\n",
    "index_KMP"
   ]
  },
  {
   "cell_type": "markdown",
   "metadata": {},
   "source": [
    "### Implementation Rabina Karpa(RK)\n",
    "##### Implement hash function\n",
    "  \n",
    "  \n",
    "$ hash(p[1:m+1])=\\sum_{i=1}^m p[i]x^{m-i} mod(q)$\n",
    "\n"
   ]
  },
  {
   "cell_type": "code",
   "execution_count": 6,
   "metadata": {},
   "outputs": [],
   "source": [
    "def RK(A, sub, d=257, q=40):\n",
    "    \"\"\"\n",
    "    Input: A - text, sub - pattern(substring)\n",
    "    Searches for a substring in the string and outputs an array\n",
    "    Using algorith Rabina Karpa with parameters hash functions - d, q\n",
    "    Asymptotics O(N+M) \n",
    "    Output: an array of locations in the text substring \n",
    "    \"\"\"\n",
    "    n = len(A)\n",
    "    m = len(sub)\n",
    "    h = pow(d,m-1)%q\n",
    "    result = []\n",
    "    p = 0 # hash for pattern\n",
    "    t = 0 # hash for text\n",
    "    for i in range(m): # We obtain the initial values hash for the pattern and substring\n",
    "        p = (d*p+ord(sub[i]))%q\n",
    "        t = (d*t+ord(A[i]))%q\n",
    "    \n",
    "    for s in range(n-m+1): \n",
    "        if p == t: # Побуквенная проверка\n",
    "            match = True\n",
    "            for i in range(m):\n",
    "                if sub[i] != A[s+i]:\n",
    "                    match = False\n",
    "                    break\n",
    "            if match:\n",
    "                result.append(s)\n",
    "        if s < n-m: # recalculate the hash for a substring\n",
    "            t = (t-h*ord(A[s]))%q # delete first\n",
    "            t = (t*d+ord(A[s+m]))%q # add next \n",
    "\n",
    "    return result"
   ]
  },
  {
   "cell_type": "code",
   "execution_count": 7,
   "metadata": {},
   "outputs": [
    {
     "name": "stdout",
     "output_type": "stream",
     "text": [
      "[8, 43, 78, 113, 148, 183, 218, 253, 288, 323] \n",
      " [8, 43, 78, 113, 148, 183, 218, 253, 288, 323]\n",
      "True\n"
     ]
    }
   ],
   "source": [
    "# Check our algorithms on simple examples\n",
    "A = \"asdddadsfasfsdasdfasdaasfgafsgsdaqs\"\n",
    "A = A*10\n",
    "sub = \"fasfsdas\"\n",
    "index_RK = RK(A, sub)\n",
    "index_KMP = KMP(A, sub)\n",
    "print(index_RK,'\\n', index_KMP)\n",
    "print(index_RK == index_KMP)\n",
    "\n"
   ]
  },
  {
   "cell_type": "markdown",
   "metadata": {},
   "source": [
    "### Compare KMP vs RK for chinese text\n",
    "1. Take meusure time functions\n",
    "2.  Upload data from file\n",
    "3. Plot graphs. \n",
    "    - How time depend from lenght text with pattern fixed\n",
    "    - How time depends from lenght pattern with text size fixed\n"
   ]
  },
  {
   "cell_type": "code",
   "execution_count": 8,
   "metadata": {},
   "outputs": [],
   "source": [
    "def meusure_time(fun, A, sub, lenghts = [1000]):\n",
    "    \"\"\"Summary of function\n",
    "    function computes time work of algorith for different lenghts of text\n",
    "    Parameters: \n",
    "    fun - algorithm\n",
    "    A - text\n",
    "    sub - pattern\n",
    "    lenghts - lenghts of text. It can be list. \n",
    "    \n",
    "    Output: array of working time for differrent lenghts\n",
    "    len(output) == len(lenghts\n",
    "    \"\"\"\n",
    "    mas = []\n",
    "    N = 3 # on what we take the average \n",
    "    \n",
    "    for i in tqdm(lenghts): # progress bar\n",
    "        interval = 0\n",
    "        for j in range(N):\n",
    "            start_time = time.time()\n",
    "            fun(A[:i], sub)\n",
    "            end_time = time.time()\n",
    "            interval += end_time - start_time\n",
    "        mas.append((interval)/N)\n",
    "    return mas\n",
    "\n"
   ]
  },
  {
   "cell_type": "markdown",
   "metadata": {},
   "source": [
    "### Work with text"
   ]
  },
  {
   "cell_type": "code",
   "execution_count": 9,
   "metadata": {},
   "outputs": [],
   "source": [
    "# upload text from file\n",
    "import codecs\n",
    "file = codecs.open( \"Chinese.txt\", 'r',\"utf-8\" )\n",
    "data = file.read() \n",
    "file.close()\n"
   ]
  },
  {
   "cell_type": "code",
   "execution_count": 10,
   "metadata": {},
   "outputs": [],
   "source": [
    "# increase size of text by repeating\n",
    "data = data*20\n",
    "data = data[:500000]\n",
    "data = data*2\n",
    "#data = data # 2550700\n"
   ]
  },
  {
   "cell_type": "code",
   "execution_count": 11,
   "metadata": {},
   "outputs": [
    {
     "name": "stdout",
     "output_type": "stream",
     "text": [
      " Size of text:  1000000 \n",
      " Size of substring(pattern): 17\n"
     ]
    }
   ],
   "source": [
    "sub= '每个地主必须养着几个外国人作保护者'\n",
    "\n",
    "print(\" Size of text: \",len(data),'\\n',\n",
    "      \"Size of substring(pattern):\", len(sub))"
   ]
  },
  {
   "cell_type": "code",
   "execution_count": 12,
   "metadata": {},
   "outputs": [
    {
     "name": "stdout",
     "output_type": "stream",
     "text": [
      "158 158\n",
      "True\n"
     ]
    }
   ],
   "source": [
    "index_KMP =KMP(data, sub)\n",
    "index_RK =RK(data, sub)\n",
    "print(len(index_KMP), len(index_KMP))\n",
    "print(index_KMP==index_RK)"
   ]
  },
  {
   "cell_type": "markdown",
   "metadata": {},
   "source": [
    "### The running time depending on the length of the text(fixed  len(sub) = 17)"
   ]
  },
  {
   "cell_type": "code",
   "execution_count": 13,
   "metadata": {},
   "outputs": [
    {
     "name": "stderr",
     "output_type": "stream",
     "text": [
      "100%|████████████████████████████████████████████| 9/9 [00:16<00:00,  2.41s/it]\n",
      "100%|████████████████████████████████████████████| 9/9 [00:10<00:00,  1.49s/it]\n"
     ]
    }
   ],
   "source": [
    "k = 1000\n",
    "lenghts = [i for i in range(100*k, 1000*k, 100*k)]\n",
    "mas1 = meusure_time(RK, data, sub, lenghts)\n",
    "mas2 = meusure_time(KMP, data, sub, lenghts)\n",
    "\n"
   ]
  },
  {
   "cell_type": "code",
   "execution_count": 14,
   "metadata": {},
   "outputs": [
    {
     "data": {
      "text/plain": [
       "Text(0.5, 1.0, 'Compare  KMP and RK when len(pattern) = 17')"
      ]
     },
     "execution_count": 14,
     "metadata": {},
     "output_type": "execute_result"
    },
    {
     "data": {
      "image/png": "[encoded data removed]",
      "text/plain": [
       "<Figure size 720x432 with 1 Axes>"
      ]
     },
     "metadata": {},
     "output_type": "display_data"
    }
   ],
   "source": [
    "\n",
    "plt.figure(figsize = (10,6))\n",
    "plt.plot(lenghts, mas1, '*', label='RK', ms=10)\n",
    "plt.plot(lenghts, mas2, 'o', label ='KMP', ms=8)\n",
    "plt.xlabel('Lenghts of text'); plt.ylabel('Time, s')\n",
    "plt.legend()\n",
    "plt.title('Compare  KMP and RK when len(pattern) = 17')"
   ]
  },
  {
   "cell_type": "markdown",
   "metadata": {},
   "source": [
    "\n"
   ]
  },
  {
   "cell_type": "code",
   "execution_count": 15,
   "metadata": {},
   "outputs": [
    {
     "name": "stdout",
     "output_type": "stream",
     "text": [
      "Number substring in sub_str:  10\n",
      "Lenghts these substring in sub_str:  1000 11000 21000 31000 41000 51000 61000 71000 81000 91000\n"
     ]
    }
   ],
   "source": [
    "\n",
    "sub = data[:100000]\n",
    "sub_str = []\n",
    "\n",
    "for i in range(1000, 100000+1, 10000):\n",
    "    sub_str.append(sub[:i])\n",
    "\n",
    "print(\"Number substring in sub_str: \", len(sub_str)) \n",
    "print(\"Lenghts these substring in sub_str: \",*[len(i) for i in sub_str])\n"
   ]
  },
  {
   "cell_type": "code",
   "execution_count": null,
   "metadata": {},
   "outputs": [],
   "source": []
  },
  {
   "cell_type": "code",
   "execution_count": 16,
   "metadata": {},
   "outputs": [
    {
     "name": "stderr",
     "output_type": "stream",
     "text": [
      "100%|████████████████████████████████████████████| 1/1 [00:02<00:00,  2.77s/it]\n",
      "100%|████████████████████████████████████████████| 1/1 [00:01<00:00,  1.80s/it]\n",
      "100%|████████████████████████████████████████████| 1/1 [00:03<00:00,  3.19s/it]\n",
      "100%|████████████████████████████████████████████| 1/1 [00:02<00:00,  2.44s/it]\n",
      "100%|████████████████████████████████████████████| 1/1 [00:03<00:00,  3.75s/it]\n",
      "100%|████████████████████████████████████████████| 1/1 [00:02<00:00,  2.81s/it]\n",
      "100%|████████████████████████████████████████████| 1/1 [00:04<00:00,  4.10s/it]\n",
      "100%|████████████████████████████████████████████| 1/1 [00:01<00:00,  1.81s/it]\n",
      "100%|████████████████████████████████████████████| 1/1 [00:03<00:00,  3.33s/it]\n",
      "100%|████████████████████████████████████████████| 1/1 [00:01<00:00,  1.77s/it]\n",
      "100%|████████████████████████████████████████████| 1/1 [00:03<00:00,  3.81s/it]\n",
      "100%|████████████████████████████████████████████| 1/1 [00:01<00:00,  1.79s/it]\n",
      "100%|████████████████████████████████████████████| 1/1 [00:03<00:00,  3.67s/it]\n",
      "100%|████████████████████████████████████████████| 1/1 [00:02<00:00,  2.12s/it]\n",
      "100%|████████████████████████████████████████████| 1/1 [00:04<00:00,  4.07s/it]\n",
      "100%|████████████████████████████████████████████| 1/1 [00:01<00:00,  1.82s/it]\n",
      "100%|████████████████████████████████████████████| 1/1 [00:04<00:00,  4.20s/it]\n",
      "100%|████████████████████████████████████████████| 1/1 [00:02<00:00,  2.01s/it]\n",
      "100%|████████████████████████████████████████████| 1/1 [00:04<00:00,  4.74s/it]\n",
      "100%|████████████████████████████████████████████| 1/1 [00:02<00:00,  2.09s/it]\n"
     ]
    }
   ],
   "source": [
    "mas_1 = []\n",
    "mas_2 = []\n",
    "k = 1000\n",
    "lenght = [800*k]\n",
    "for sub in sub_str:\n",
    "    mas_1.append(meusure_time(RK, data, sub, lenght))\n",
    "    mas_2.append(meusure_time(KMP, data, sub, lenght))\n",
    "    "
   ]
  },
  {
   "cell_type": "code",
   "execution_count": 17,
   "metadata": {},
   "outputs": [
    {
     "name": "stdout",
     "output_type": "stream",
     "text": [
      "[1000, 11000, 21000, 31000, 41000, 51000, 61000, 71000, 81000, 91000]\n"
     ]
    },
    {
     "data": {
      "text/plain": [
       "Text(0.5, 1.0, 'Compare KMP vs RK when len(text) = 800 000')"
      ]
     },
     "execution_count": 17,
     "metadata": {},
     "output_type": "execute_result"
    },
    {
     "data": {
      "image/png": "[encoded data removed]",
      "text/plain": [
       "<Figure size 720x432 with 1 Axes>"
      ]
     },
     "metadata": {},
     "output_type": "display_data"
    }
   ],
   "source": [
    "mas_x = [len(i) for i in sub_str]\n",
    "print(mas_x)\n",
    "plt.figure(figsize = (10,6))\n",
    "plt.plot(mas_x, mas_1, '*', label='RK', ms=10)\n",
    "plt.plot(mas_x, mas_2, 'o', label ='KMP', ms=8)\n",
    "plt.xlabel('Lenghts of substring(pattern)'); plt.ylabel('Time, s')\n",
    "plt.legend()\n",
    "plt.title('Compare KMP vs RK when len(text) = 800 000')"
   ]
  },
  {
   "cell_type": "code",
   "execution_count": null,
   "metadata": {},
   "outputs": [],
   "source": [
    "\n"
   ]
  },
  {
   "cell_type": "code",
   "execution_count": null,
   "metadata": {},
   "outputs": [],
   "source": []
  }
 ],
 "metadata": {
  "kernelspec": {
   "display_name": "Python 3",
   "language": "python",
   "name": "python3"
  },
  "language_info": {
   "codemirror_mode": {
    "name": "ipython",
    "version": 3
   },
   "file_extension": ".py",
   "mimetype": "text/x-python",
   "name": "python",
   "nbconvert_exporter": "python",
   "pygments_lexer": "ipython3",
   "version": "3.6.8"
  }
 },
 "nbformat": 4,
 "nbformat_minor": 2
}
