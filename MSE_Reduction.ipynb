{
 "cells": [
  {
   "cell_type": "code",
   "execution_count": 5,
   "metadata": {},
   "outputs": [],
   "source": [
    "import numpy as np\n",
    "import matplotlib.pyplot as plt\n",
    "import seaborn as sns; sns.set()"
   ]
  },
  {
   "cell_type": "markdown",
   "metadata": {},
   "source": [
    "#### МНК\n",
    "Ax = b  \n",
    "$\\hat{x} = (A^TA)^{-1}A^Tb$"
   ]
  },
  {
   "cell_type": "code",
   "execution_count": 6,
   "metadata": {},
   "outputs": [],
   "source": [
    "def pseudo_inverse(A):\n",
    "    A_tmp = np.dot(A.T, A)\n",
    "    A_tmp = np.linalg.inv(A_tmp)\n",
    "    return np.dot(A_tmp, A.T)\n",
    "\n",
    "def fit_MNK(A, b):\n",
    "    if A.shape[0] != b.shape[0]:\n",
    "        print( \"Error in shapes\")\n",
    "    else:\n",
    "        return np.dot(np.linalg.pinv(A),b) # оказывается есть функция псевдообращения\n"
   ]
  },
  {
   "cell_type": "code",
   "execution_count": 7,
   "metadata": {},
   "outputs": [
    {
     "name": "stdout",
     "output_type": "stream",
     "text": [
      "(3, 2) (3, 1)\n"
     ]
    },
    {
     "data": {
      "text/plain": [
       "array([[ 0.33333333],\n",
       "       [-0.33333333]])"
      ]
     },
     "execution_count": 7,
     "metadata": {},
     "output_type": "execute_result"
    }
   ],
   "source": [
    "A = np.array([[2,0],\n",
    "              [-1,1],\n",
    "              [0,2]])\n",
    "b = np.array([1,0,-1]).reshape(3,1)\n",
    "print(A.shape, b.shape)\n",
    "x_hat = fit_MNK(A, b)\n",
    "x_hat"
   ]
  },
  {
   "cell_type": "code",
   "execution_count": null,
   "metadata": {},
   "outputs": [],
   "source": [
    "\n"
   ]
  },
  {
   "cell_type": "markdown",
   "metadata": {},
   "source": [
    "#### Редукция\n",
    "Ax = b  ,   $\\hat{x} = x_0 + FA^T(AFA^T + \\Sigma)^{-1}(b - Ax_0)$  \n",
    "что за $\\Sigma$ и F  ???"
   ]
  },
  {
   "cell_type": "code",
   "execution_count": 28,
   "metadata": {},
   "outputs": [],
   "source": [
    "#code here"
   ]
  },
  {
   "cell_type": "markdown",
   "metadata": {},
   "source": [
    "#### Сигнал и оператор свертки\n",
    "Работаем со сверткой и с зубчитым сигналом. и Сравниваем два алгоритма"
   ]
  },
  {
   "cell_type": "code",
   "execution_count": 8,
   "metadata": {},
   "outputs": [
    {
     "data": {
      "text/plain": [
       "[<matplotlib.lines.Line2D at 0x217df02a4e0>]"
      ]
     },
     "execution_count": 8,
     "metadata": {},
     "output_type": "execute_result"
    },
    {
     "data": {
      "image/png": "[encoded data removed]",
      "text/plain": [
       "<Figure size 432x288 with 1 Axes>"
      ]
     },
     "metadata": {},
     "output_type": "display_data"
    }
   ],
   "source": [
    "\n",
    "N = 1000\n",
    "conv_fun = np.zeros(N)\n",
    "conv_fun[int(N/3):int(2*N/3)] = 1\n",
    "plt.plot(conv_fun)"
   ]
  },
  {
   "cell_type": "code",
   "execution_count": 29,
   "metadata": {},
   "outputs": [],
   "source": [
    "# create convolutional operator\n",
    "array = [0,0,1,1,0,0]\n",
    "def array_shift(array, shift = 'right'):\n",
    "    \"\"\"смещаем массив в сторону, добавляя ноль\"\"\"\n",
    "    if shift == 'right':\n",
    "        return np.insert(array, 0, 0)[:-1] # add 0 in the beginning\n",
    "    elif shift == 'left':\n",
    "        return np.append(array, 0)[1:]\n",
    "    else:\n",
    "        print('Shift incorrect')"
   ]
  },
  {
   "cell_type": "code",
   "execution_count": 10,
   "metadata": {},
   "outputs": [],
   "source": [
    "def build_conv_operator(conv_fun):\n",
    "    \n",
    "    N = conv_fun.shape[0]\n",
    "    mas = np.zeros((N, N))\n",
    "    \n",
    "    # у нас ведь свертка а не кросс валидация, поэтому сделаем разворот.\n",
    "    conv_fun =  np.flip(conv_fun)\n",
    "    mas[N//2,:] = conv_fun\n",
    "    for i in range(N//2, 0,-1):\n",
    "        mas[i-1, :] = array_shift(mas[i, :], 'left')\n",
    "    for i in range(N//2, N-1, 1):\n",
    "        mas[i+1, :] = array_shift(mas[i, :], 'right')\n",
    "    return mas\n",
    "    \n",
    "        "
   ]
  },
  {
   "cell_type": "code",
   "execution_count": 27,
   "metadata": {},
   "outputs": [
    {
     "data": {
      "text/plain": [
       "<matplotlib.legend.Legend at 0x217e445f668>"
      ]
     },
     "execution_count": 27,
     "metadata": {},
     "output_type": "execute_result"
    },
    {
     "data": {
      "image/png": "[encoded data removed]",
      "text/plain": [
       "<Figure size 432x288 with 1 Axes>"
      ]
     },
     "metadata": {},
     "output_type": "display_data"
    }
   ],
   "source": [
    "operator = build_conv_operator(conv_fun)\n",
    "\n",
    "plt.title(\"Show shifts con_func\")\n",
    "plt.plot(operator[0,:], label = 'left')\n",
    "plt.plot(operator[N//2,:], label = 'original')\n",
    "plt.plot(operator[-1,:], label = 'right')\n",
    "plt.legend()"
   ]
  },
  {
   "cell_type": "code",
   "execution_count": 12,
   "metadata": {},
   "outputs": [],
   "source": [
    "def take_saw(N):\n",
    "    # так и не понял зачем мне это\n",
    "    mas=np.zeros(N)\n",
    "    mas[:N//2] = np.linspace(0,1,N//2)\n",
    "    mas[N//2:] = np.linspace(1,0,N//2)\n",
    "    return mas"
   ]
  },
  {
   "cell_type": "code",
   "execution_count": 13,
   "metadata": {},
   "outputs": [
    {
     "data": {
      "text/plain": [
       "[<matplotlib.lines.Line2D at 0x217df866748>]"
      ]
     },
     "execution_count": 13,
     "metadata": {},
     "output_type": "execute_result"
    },
    {
     "data": {
      "image/png": "[encoded data removed]",
      "text/plain": [
       "<Figure size 432x288 with 1 Axes>"
      ]
     },
     "metadata": {},
     "output_type": "display_data"
    }
   ],
   "source": [
    "func = np.linspace(0,1,N) \n",
    "\n",
    "func[:400] = take_saw(400)/4\n",
    "for i in range(0, N-100, 100):\n",
    "    func[i:i+100] = np.random.random()\n",
    "\n",
    "\"\"\"for i in range(num_heap):\n",
    "    lenght = np.random.randint(jump)\n",
    "    func[i*jump:i*jump+lenght] = np.linspace\n",
    "\"\"\"\n",
    "plt.plot(func)"
   ]
  },
  {
   "cell_type": "code",
   "execution_count": 14,
   "metadata": {},
   "outputs": [
    {
     "data": {
      "text/plain": [
       "[<matplotlib.lines.Line2D at 0x217df8be7b8>]"
      ]
     },
     "execution_count": 14,
     "metadata": {},
     "output_type": "execute_result"
    },
    {
     "data": {
      "image/png": "[encoded data removed]",
      "text/plain": [
       "<Figure size 432x288 with 1 Axes>"
      ]
     },
     "metadata": {},
     "output_type": "display_data"
    }
   ],
   "source": [
    "\n",
    "x_hat = fit_MNK(operator, func)\n",
    "plt.plot(x_hat) ## some noise it is very bad. Because bad signals with hopping\n",
    "\"\"\"Плохо работает потому что сигнал ничколько несглаженнй.\n",
    "Если например его сгладить и посмотреть что восстанавливается, то все нормально.\n",
    "МНК работает\"\"\"\n"
   ]
  },
  {
   "cell_type": "code",
   "execution_count": null,
   "metadata": {},
   "outputs": [],
   "source": []
  },
  {
   "cell_type": "code",
   "execution_count": null,
   "metadata": {},
   "outputs": [],
   "source": []
  },
  {
   "cell_type": "code",
   "execution_count": null,
   "metadata": {},
   "outputs": [],
   "source": []
  },
  {
   "cell_type": "code",
   "execution_count": null,
   "metadata": {},
   "outputs": [],
   "source": []
  },
  {
   "cell_type": "code",
   "execution_count": null,
   "metadata": {},
   "outputs": [],
   "source": []
  },
  {
   "cell_type": "code",
   "execution_count": null,
   "metadata": {},
   "outputs": [],
   "source": []
  },
  {
   "cell_type": "code",
   "execution_count": null,
   "metadata": {},
   "outputs": [],
   "source": []
  },
  {
   "cell_type": "code",
   "execution_count": null,
   "metadata": {},
   "outputs": [],
   "source": []
  }
 ],
 "metadata": {
  "kernelspec": {
   "display_name": "Python 3",
   "language": "python",
   "name": "python3"
  },
  "language_info": {
   "codemirror_mode": {
    "name": "ipython",
    "version": 3
   },
   "file_extension": ".py",
   "mimetype": "text/x-python",
   "name": "python",
   "nbconvert_exporter": "python",
   "pygments_lexer": "ipython3",
   "version": "3.6.8"
  }
 },
 "nbformat": 4,
 "nbformat_minor": 2
}
