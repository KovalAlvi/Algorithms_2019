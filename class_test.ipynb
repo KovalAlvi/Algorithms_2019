{
 "cells": [
  {
   "cell_type": "code",
   "execution_count": 152,
   "metadata": {},
   "outputs": [],
   "source": [
    "class Node():\n",
    "    def __init__(self, key):\n",
    "        self.key = key\n",
    "        self.value = 1\n",
    "        self.left = None; self.right = None\n",
    "    def __str__(self):\n",
    "        return str(self.key) + \" \" + str(self.value)\n",
    "    def add(self, other):\n",
    "        if other.key > self.key:\n",
    "            if self.right is None:\n",
    "                self.right = other\n",
    "            else:\n",
    "                self.right.add(other)\n",
    "\n",
    "        elif other.key < self.key:\n",
    "            if self.left is None:\n",
    "                self.left = other\n",
    "            else:\n",
    "                self.left.add(other)\n",
    "        else:\n",
    "            self.value += 1\n",
    "    def show_node(self):\n",
    "        if self.left:\n",
    "            self.left.show_node()\n",
    "        print(self.key,self.value)\n",
    "        if self.right:\n",
    "            self.right.show_node()\n",
    "            \n",
    "    def find(self, other, k=0):\n",
    "        \"\"\"Compare by key\n",
    "        Output: number comparison and Existence(True or False)\n",
    "        \"\"\"\n",
    "        k += 1\n",
    "        if other > self.key: \n",
    "            k += 1 \n",
    "            if self.right is None:\n",
    "                return k, False\n",
    "            else:\n",
    "                k, foo = self.right.find(other, k)\n",
    "                \n",
    "        elif other < self.key:\n",
    "            k += 2\n",
    "            if self.left is None:\n",
    "                return k, False\n",
    "            else:\n",
    "                k, foo = self.left.find(other, k)\n",
    "        else:\n",
    "            k += 1 \n",
    "            return k, True\n",
    "        return k , 'boo'\n",
    "    \n",
    "            "
   ]
  },
  {
   "cell_type": "code",
   "execution_count": 168,
   "metadata": {},
   "outputs": [],
   "source": [
    "class Tree():\n",
    "    def __init__(self, root = None):\n",
    "        self.root = root\n",
    "    def getRoot(self):\n",
    "        print(self.root)\n",
    "        \n",
    "    def incert_node(self, other):\n",
    "        if self.root is None:\n",
    "            self.root = other\n",
    "        else:\n",
    "            self.root.add(other)\n",
    "\n",
    "    def incert_val(self, val):\n",
    "        if self.root is None:\n",
    "            self.root = Node(val)\n",
    "        else:\n",
    "            self.root.add(Node(val))\n",
    "            \n",
    "    def show(self):\n",
    "        if self.root is None:\n",
    "            print('Tree is empty')\n",
    "        else:\n",
    "            print(self.root.show_node())\n",
    "\n",
    "    def find(self, other):\n",
    "        \n",
    "        if self.root is None:\n",
    "            k += 1\n",
    "            return k, False\n",
    "        else:\n",
    "            return self.root.find(other, k)\n",
    "    \n",
    "    def to_list(self):\n",
    "        pass\n",
    "        "
   ]
  },
  {
   "cell_type": "code",
   "execution_count": 169,
   "metadata": {},
   "outputs": [],
   "source": [
    "node10 = Node(10)\n",
    "node11 = Node(11)\n",
    "node8 = Node(8)\n",
    "tree = Tree()\n",
    "tree.incert_node(node10)\n",
    "tree.incert_node(node11)\n",
    "tree.incert_node(node8)\n",
    "tree.incert_val(20)"
   ]
  },
  {
   "cell_type": "code",
   "execution_count": 170,
   "metadata": {},
   "outputs": [
    {
     "name": "stdout",
     "output_type": "stream",
     "text": [
      "8 1\n",
      "10 1\n",
      "11 1\n",
      "20 1\n",
      "None\n"
     ]
    }
   ],
   "source": [
    "tree.show()"
   ]
  },
  {
   "cell_type": "code",
   "execution_count": 166,
   "metadata": {},
   "outputs": [
    {
     "data": {
      "text/plain": [
       "(6, 'boo')"
      ]
     },
     "execution_count": 166,
     "metadata": {},
     "output_type": "execute_result"
    }
   ],
   "source": [
    "node10.find(200)"
   ]
  },
  {
   "cell_type": "code",
   "execution_count": 151,
   "metadata": {},
   "outputs": [
    {
     "name": "stdout",
     "output_type": "stream",
     "text": [
      "10 1\n"
     ]
    }
   ],
   "source": [
    "node2 = Node(12)\n",
    "print(node1)"
   ]
  },
  {
   "cell_type": "code",
   "execution_count": 126,
   "metadata": {},
   "outputs": [],
   "source": [
    "node1.add(node2)\n",
    "node1.add(node2)"
   ]
  },
  {
   "cell_type": "code",
   "execution_count": 127,
   "metadata": {},
   "outputs": [
    {
     "name": "stdout",
     "output_type": "stream",
     "text": [
      "l 2 d\n"
     ]
    }
   ],
   "source": [
    "\n",
    "print('l', 2, 'd')"
   ]
  },
  {
   "cell_type": "code",
   "execution_count": 135,
   "metadata": {},
   "outputs": [],
   "source": [
    "def pss():\n",
    "    return 5, False\n"
   ]
  },
  {
   "cell_type": "code",
   "execution_count": 137,
   "metadata": {},
   "outputs": [],
   "source": [
    "_, r = pss()"
   ]
  },
  {
   "cell_type": "code",
   "execution_count": 139,
   "metadata": {},
   "outputs": [
    {
     "data": {
      "text/plain": [
       "False"
      ]
     },
     "execution_count": 139,
     "metadata": {},
     "output_type": "execute_result"
    }
   ],
   "source": [
    "r"
   ]
  }
 ],
 "metadata": {
  "kernelspec": {
   "display_name": "Python 3",
   "language": "python",
   "name": "python3"
  },
  "language_info": {
   "codemirror_mode": {
    "name": "ipython",
    "version": 3
   },
   "file_extension": ".py",
   "mimetype": "text/x-python",
   "name": "python",
   "nbconvert_exporter": "python",
   "pygments_lexer": "ipython3",
   "version": "3.6.8"
  }
 },
 "nbformat": 4,
 "nbformat_minor": 2
}
